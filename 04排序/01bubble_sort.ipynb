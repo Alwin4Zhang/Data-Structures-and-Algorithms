{
 "cells": [
  {
   "cell_type": "code",
   "execution_count": 1,
   "metadata": {},
   "outputs": [
    {
     "data": {
      "text/plain": [
       "'\\n    每次都需要一个元素从头向后移动\\n    在前一次的数据定好位置后  每次从头向后走步数会依次递减\\n    每一步都需要当前元素与后一个元素比较大小\\n'"
      ]
     },
     "execution_count": 1,
     "metadata": {},
     "output_type": "execute_result"
    }
   ],
   "source": [
    "\"\"\"\n",
    "    每次都需要一个元素从头向后移动\n",
    "    在前一次的数据定好位置后  每次从头向后走步数会依次递减\n",
    "    每一步都需要当前元素与后一个元素比较大小\n",
    "    \n",
    "从后往前确定元素的大小 大的排在后面后就不需要动  比较次数一次减少\n",
    "\"\"\""
   ]
  },
  {
   "cell_type": "code",
   "execution_count": 12,
   "metadata": {},
   "outputs": [],
   "source": [
    "def bubble_sort(alist):\n",
    "    '''冒泡排序'''\n",
    "    n = len(alist)\n",
    "    for i in range(n-1): # 每次遍历都需要一个元素走到尾，总共走n-1\n",
    "        \"\"\"\n",
    "            1.i=0 从头走到n-1 \n",
    "            2.i=1 从头走到n-2\n",
    "            3.i=2 从头走到n-3\n",
    "        \"\"\"\n",
    "        for j in range(n-1-i):\n",
    "            if alist[j] > alist[j+1]:\n",
    "                alist[j],alist[j+1] = alist[j+1],alist[j]\n",
    "        "
   ]
  },
  {
   "cell_type": "code",
   "execution_count": 13,
   "metadata": {},
   "outputs": [],
   "source": [
    "alist = [54, 26, 93, 17, 77, 31, 44, 55, 20]"
   ]
  },
  {
   "cell_type": "code",
   "execution_count": 14,
   "metadata": {},
   "outputs": [],
   "source": [
    "bubble_sort(alist)"
   ]
  },
  {
   "cell_type": "code",
   "execution_count": 15,
   "metadata": {},
   "outputs": [
    {
     "name": "stdout",
     "output_type": "stream",
     "text": [
      "[17, 20, 26, 31, 44, 54, 55, 77, 93]\n"
     ]
    }
   ],
   "source": [
    "print(alist)"
   ]
  },
  {
   "cell_type": "code",
   "execution_count": null,
   "metadata": {},
   "outputs": [],
   "source": []
  }
 ],
 "metadata": {
  "kernelspec": {
   "display_name": "Python 3",
   "language": "python",
   "name": "python3"
  },
  "language_info": {
   "codemirror_mode": {
    "name": "ipython",
    "version": 3
   },
   "file_extension": ".py",
   "mimetype": "text/x-python",
   "name": "python",
   "nbconvert_exporter": "python",
   "pygments_lexer": "ipython3",
   "version": "3.6.2"
  }
 },
 "nbformat": 4,
 "nbformat_minor": 2
}
