{
 "cells": [
  {
   "cell_type": "code",
   "execution_count": 1,
   "metadata": {},
   "outputs": [
    {
     "data": {
      "text/plain": [
       "'\\n    选择排序:\\n    1.先找到最小值  然后最小值跟第一个元素交换\\n    2.确定第一个位置后  在剩下内容中找到最小值 最小值与第二个元素交换\\n    3.以此类推\\n\\n    选择排序跟冒泡排序类似 都是每次都要遍历 走到倒数第二个元素为止\\n'"
      ]
     },
     "execution_count": 1,
     "metadata": {},
     "output_type": "execute_result"
    }
   ],
   "source": [
    "\"\"\"\n",
    "    选择排序:\n",
    "    1.先找到最小值  然后最小值跟第一个元素交换\n",
    "    2.确定第一个位置后  在剩下内容中找到最小值 最小值与第二个元素交换\n",
    "    3.以此类推\n",
    "\n",
    "    选择排序跟冒泡排序类似 都是每次都要遍历 走到倒数第二个元素为止\n",
    "\"\"\"\n"
   ]
  },
  {
   "cell_type": "code",
   "execution_count": null,
   "metadata": {},
   "outputs": [],
   "source": [
    "def select_sort(alist):\n",
    "    n = len(alist)\n",
    "    \n",
    "    for i in range(n-1): #要走n-1次 控制外部总的循环次数\n",
    "        min_index = i\n",
    "        for j in range(i+1,n):\n",
    "            if alist[min_index] > alist[j]:\n",
    "                min_index = j\n",
    "        alist[min_index],alist[j]"
   ]
  }
 ],
 "metadata": {
  "kernelspec": {
   "display_name": "Python 3",
   "language": "python",
   "name": "python3"
  },
  "language_info": {
   "codemirror_mode": {
    "name": "ipython",
    "version": 3
   },
   "file_extension": ".py",
   "mimetype": "text/x-python",
   "name": "python",
   "nbconvert_exporter": "python",
   "pygments_lexer": "ipython3",
   "version": "3.6.2"
  }
 },
 "nbformat": 4,
 "nbformat_minor": 2
}
