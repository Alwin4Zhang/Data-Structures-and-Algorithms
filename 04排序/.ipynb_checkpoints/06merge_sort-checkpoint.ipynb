{
 "cells": [
  {
   "cell_type": "code",
   "execution_count": 1,
   "metadata": {},
   "outputs": [
    {
     "data": {
      "text/plain": [
       "'\\n    归并算法\\n    将数组切分到最小粒度，然后向上一步步合并，通过维护两个指针，\\n    将合并后的分组内数组排序成有序序列\\n    最优时间复杂度: nlogn\\n    最坏时间复杂度: nlogn\\n\\n'"
      ]
     },
     "execution_count": 1,
     "metadata": {},
     "output_type": "execute_result"
    }
   ],
   "source": [
    "\"\"\"\n",
    "    归并算法\n",
    "    将数组切分到最小粒度，然后向上一步步合并，通过维护两个指针，\n",
    "    将合并后的分组内数组排序成有序序列\n",
    "    最优时间复杂度: nlogn\n",
    "    最坏时间复杂度: nlogn\n",
    "\n",
    "\"\"\""
   ]
  },
  {
   "cell_type": "code",
   "execution_count": 2,
   "metadata": {},
   "outputs": [],
   "source": [
    "def merge_sort(alist):\n",
    "    n = len(alist)\n",
    "    \n",
    "    #递归退出条件\n",
    "    if n <= 1:\n",
    "        #需要返回list 因为本身就是有序的\n",
    "        return alist\n",
    "    \n",
    "    mid = n // 2\n",
    "    \n",
    "    #left采用归并排序后形成的有序的新的列表\n",
    "    left_li = merge_sort(alist[:mid])\n",
    "    #right采用归并排序后形成的有序的新的列表\n",
    "    right_li = merge_sort(alist[mid:])\n",
    "    \n",
    "    left_pointer,right_pointer = 0,0\n",
    "    result = []\n",
    "    while left_pointer<len(left_li) and right_pointer<len(right_li):\n",
    "        if left_li[left_pointer] <= right_li[right_pointer]:\n",
    "            #如果左边序列left_pointer指向元素 小于 右边 right_pointer指向元素 添加左边元素\n",
    "            result.append(left_li[left_pointer])\n",
    "            left_pointer += 1\n",
    "        else:\n",
    "            #如果左边序列left_pointer指向元素大于右边 right_pointer指向元素 添加右边元素\n",
    "            result.append(right_li[right_pointer])\n",
    "            right_pointer += 1\n",
    "    #跳出循环说明有一个list已经移动到末尾 不管哪个list到结尾 直接加上另外一个list剩余元素(顶多一个)\n",
    "    result += left_li[left_pointer:]\n",
    "    result += right_li[right_pointer:]\n",
    "    return result"
   ]
  },
  {
   "cell_type": "code",
   "execution_count": null,
   "metadata": {},
   "outputs": [],
   "source": [
    "alist = [54, 26, 93, 17, 77, 31, 44, 55, 20]\n",
    "result = merge_sort(alist)\n",
    "print(result)"
   ]
  }
 ],
 "metadata": {
  "kernelspec": {
   "display_name": "Python 3",
   "language": "python",
   "name": "python3"
  },
  "language_info": {
   "codemirror_mode": {
    "name": "ipython",
    "version": 3
   },
   "file_extension": ".py",
   "mimetype": "text/x-python",
   "name": "python",
   "nbconvert_exporter": "python",
   "pygments_lexer": "ipython3",
   "version": "3.6.2"
  }
 },
 "nbformat": 4,
 "nbformat_minor": 2
}
