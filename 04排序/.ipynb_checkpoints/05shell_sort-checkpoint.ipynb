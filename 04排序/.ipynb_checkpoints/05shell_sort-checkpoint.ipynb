{
 "cells": [
  {
   "cell_type": "code",
   "execution_count": 1,
   "metadata": {},
   "outputs": [
    {
     "data": {
      "text/plain": [
       "'\\n    希尔排序\\n    通过选择不同的步长gap 将list集合分为多个子序列 对子序列进行插入排序\\n    依次降低步长，直到为1   最后生成有序序列\\n\\n    相当于一个序列 alist = [ 13 14 94 33 82 25 59 94 65 23 45 27 73 25 39 10 ]\\n    gap = 5 时\\n    13 14 94 33 82\\n    25 59 94 65 23\\n    45 27 73 25 39\\n    10\\n\\n    我们队每一列进行排序\\n    10 14 73 25 23\\n    13 27 94 33 39\\n    25 59 94 65 82\\n    45\\n\\n    最优时间复杂度:根据步长序列的不同而不同 平均是O(n^1.3)\\n    最坏时间复杂度: O(n^2)\\n'"
      ]
     },
     "execution_count": 1,
     "metadata": {},
     "output_type": "execute_result"
    }
   ],
   "source": [
    "\"\"\"\n",
    "    希尔排序\n",
    "    通过选择不同的步长gap 将list集合分为多个子序列 对子序列进行插入排序\n",
    "    依次降低步长，直到为1   最后生成有序序列\n",
    "\n",
    "    相当于一个序列 alist = [ 13 14 94 33 82 25 59 94 65 23 45 27 73 25 39 10 ]\n",
    "    gap = 5 时\n",
    "    13 14 94 33 82\n",
    "    25 59 94 65 23\n",
    "    45 27 73 25 39\n",
    "    10\n",
    "\n",
    "    我们队每一列进行排序\n",
    "    10 14 73 25 23\n",
    "    13 27 94 33 39\n",
    "    25 59 94 65 82\n",
    "    45\n",
    "\n",
    "    最优时间复杂度:根据步长序列的不同而不同 平均是O(n^1.3)\n",
    "    最坏时间复杂度: O(n^2)\n",
    "\"\"\""
   ]
  },
  {
   "cell_type": "code",
   "execution_count": null,
   "metadata": {},
   "outputs": [],
   "source": [
    "def shell_sort(alist):\n",
    "    n = len(alist)\n",
    "    \n",
    "    gap = n // 2\n",
    "    \n",
    "    while gap >= 1:\n",
    "        # 将步长进行插入排序\n",
    "        for i in range(gap,n):\n",
    "            j = i\n",
    "            while j > 0:\n",
    "                if alist[j] < alist[j - gap]: # 对列进行插入排序\n",
    "                    alist[j],alist[j-gap] = alist[j-gap],alist[j]\n",
    "                    j -= gap\n",
    "                else:\n",
    "                    break\n",
    "        # 缩短gap步长，最终步长要为1\n",
    "        gap //= 2"
   ]
  }
 ],
 "metadata": {
  "kernelspec": {
   "display_name": "Python 3",
   "language": "python",
   "name": "python3"
  },
  "language_info": {
   "codemirror_mode": {
    "name": "ipython",
    "version": 3
   },
   "file_extension": ".py",
   "mimetype": "text/x-python",
   "name": "python",
   "nbconvert_exporter": "python",
   "pygments_lexer": "ipython3",
   "version": "3.6.2"
  }
 },
 "nbformat": 4,
 "nbformat_minor": 2
}
