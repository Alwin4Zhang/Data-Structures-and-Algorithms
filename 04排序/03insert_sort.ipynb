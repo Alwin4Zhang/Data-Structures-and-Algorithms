{
 "cells": [
  {
   "cell_type": "code",
   "execution_count": 1,
   "metadata": {},
   "outputs": [
    {
     "data": {
      "text/plain": [
       "'\\n    插入排序\\n    1.先认为第一个元素为有序序列  剩下的元素是无序序列\\n    2.在无序序列中选择第一个  选择后面的数据与已经有序的有序序列比较 插入到合适位置\\n    3.以此执行 直到全部序列有序\\n'"
      ]
     },
     "execution_count": 1,
     "metadata": {},
     "output_type": "execute_result"
    }
   ],
   "source": [
    "\"\"\"\n",
    "    插入排序\n",
    "    1.先认为第一个元素为有序序列  剩下的元素是无序序列\n",
    "    2.在无序序列中选择第一个  选择后面的数据与已经有序的有序序列比较 插入到合适位置\n",
    "    3.以此执行 直到全部序列有序\n",
    "\"\"\""
   ]
  },
  {
   "cell_type": "code",
   "execution_count": 8,
   "metadata": {},
   "outputs": [],
   "source": [
    "def insert_sort(alist):\n",
    "    n = len(alist)\n",
    "    \n",
    "    for i in range(0,n-1):\n",
    "        j = i \n",
    "        #想办法将从第二个开始的元素依次插入到前面有序的序列\n",
    "        while j > 0:\n",
    "            if alist[j] < alist[j-1]:\n",
    "                alist[j],alist[j-1] = alist[j-1],alist[j] # 交换\n",
    "                j -= 1\n",
    "            else: # 如果有序状态 就执行下一个插入\n",
    "                break   "
   ]
  },
  {
   "cell_type": "code",
   "execution_count": 9,
   "metadata": {},
   "outputs": [
    {
     "name": "stdout",
     "output_type": "stream",
     "text": [
      "[17, 26, 31, 44, 54, 55, 77, 93, 20]\n"
     ]
    }
   ],
   "source": [
    "alist = [54, 26, 93, 17, 77, 31, 44, 55, 20]\n",
    "insert_sort(alist)\n",
    "print(alist)"
   ]
  },
  {
   "cell_type": "code",
   "execution_count": null,
   "metadata": {},
   "outputs": [],
   "source": []
  },
  {
   "cell_type": "code",
   "execution_count": null,
   "metadata": {},
   "outputs": [],
   "source": []
  }
 ],
 "metadata": {
  "kernelspec": {
   "display_name": "Python 3",
   "language": "python",
   "name": "python3"
  },
  "language_info": {
   "codemirror_mode": {
    "name": "ipython",
    "version": 3
   },
   "file_extension": ".py",
   "mimetype": "text/x-python",
   "name": "python",
   "nbconvert_exporter": "python",
   "pygments_lexer": "ipython3",
   "version": "3.6.2"
  }
 },
 "nbformat": 4,
 "nbformat_minor": 2
}
