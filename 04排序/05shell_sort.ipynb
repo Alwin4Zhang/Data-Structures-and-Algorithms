{
 "cells": [
  {
   "cell_type": "code",
   "execution_count": 1,
   "metadata": {
    "ExecuteTime": {
     "end_time": "2020-09-05T02:21:19.231872Z",
     "start_time": "2020-09-05T02:21:19.220500Z"
    }
   },
   "outputs": [
    {
     "data": {
      "text/plain": [
       "'\\n    希尔排序\\n    通过选择不同的步长gap 将list集合分为多个子序列 对子序列进行插入排序\\n    依次降低步长，直到为1   最后生成有序序列\\n\\n    相当于一个序列 alist = [ 13 14 94 33 82 25 59 94 65 23 45 27 73 25 39 10 ]\\n    gap = 5 时\\n    13 14 94 33 82\\n    25 59 94 65 23\\n    45 27 73 25 39\\n    10\\n\\n    我们对每一列进行排序\\n    10 14 73 25 23\\n    13 27 94 33 39\\n    25 59 94 65 82\\n    45\\n\\n    最优时间复杂度:根据步长序列的不同而不同 平均是O(n^1.3)\\n    最坏时间复杂度: O(n^2)\\n'"
      ]
     },
     "execution_count": 1,
     "metadata": {},
     "output_type": "execute_result"
    }
   ],
   "source": [
    "\"\"\"\n",
    "    希尔排序\n",
    "    通过选择不同的步长gap 将list集合分为多个子序列 对子序列进行插入排序\n",
    "    依次降低步长，直到为1   最后生成有序序列\n",
    "\n",
    "    相当于一个序列 alist = [ 13 14 94 33 82 25 59 94 65 23 45 27 73 25 39 10 ]\n",
    "    gap = 5 时\n",
    "    13 14 94 33 82\n",
    "    25 59 94 65 23\n",
    "    45 27 73 25 39\n",
    "    10\n",
    "\n",
    "    我们对每一列进行排序\n",
    "    10 14 73 25 23\n",
    "    13 27 94 33 39\n",
    "    25 59 94 65 82\n",
    "    45\n",
    "\n",
    "    最优时间复杂度:根据步长序列的不同而不同 平均是O(n^1.3)\n",
    "    最坏时间复杂度: O(n^2)\n",
    "\"\"\""
   ]
  },
  {
   "cell_type": "code",
   "execution_count": 4,
   "metadata": {
    "ExecuteTime": {
     "end_time": "2020-09-05T02:23:06.451313Z",
     "start_time": "2020-09-05T02:23:06.445038Z"
    }
   },
   "outputs": [],
   "source": [
    "def shell_sort(alist):\n",
    "    n = len(alist)\n",
    "    gap = n // 2\n",
    "    \n",
    "    while gap >= 1:\n",
    "        # 将步长进行插入排序\n",
    "        for i in range(gap,n):\n",
    "            j = i\n",
    "            while j > 0:\n",
    "                if alist[j] < alist[j - gap]: # 对列进行插入排序\n",
    "                    alist[j],alist[j-gap] = alist[j-gap],alist[j]\n",
    "                    j -= gap\n",
    "                else:\n",
    "                    break\n",
    "        # 缩短gap步长，最终步长要为1\n",
    "        gap //= 2"
   ]
  },
  {
   "cell_type": "code",
   "execution_count": 5,
   "metadata": {
    "ExecuteTime": {
     "end_time": "2020-09-05T02:23:06.822042Z",
     "start_time": "2020-09-05T02:23:06.816751Z"
    }
   },
   "outputs": [
    {
     "name": "stdout",
     "output_type": "stream",
     "text": [
      "[10, 13, 14, 23, 25, 25, 27, 33, 39, 45, 59, 65, 73, 82, 94, 95]\n"
     ]
    }
   ],
   "source": [
    "alist=[13,14,94,33,82,25,59,95,65,23,45,27,73,25,39,10]\n",
    "shell_sort(alist)\n",
    "print(alist)"
   ]
  },
  {
   "cell_type": "code",
   "execution_count": null,
   "metadata": {},
   "outputs": [],
   "source": []
  }
 ],
 "metadata": {
  "kernelspec": {
   "display_name": "Python 3",
   "language": "python",
   "name": "python3"
  },
  "language_info": {
   "codemirror_mode": {
    "name": "ipython",
    "version": 3
   },
   "file_extension": ".py",
   "mimetype": "text/x-python",
   "name": "python",
   "nbconvert_exporter": "python",
   "pygments_lexer": "ipython3",
   "version": "3.7.7"
  },
  "toc": {
   "base_numbering": 1,
   "nav_menu": {},
   "number_sections": true,
   "sideBar": true,
   "skip_h1_title": false,
   "title_cell": "Table of Contents",
   "title_sidebar": "Contents",
   "toc_cell": false,
   "toc_position": {},
   "toc_section_display": true,
   "toc_window_display": false
  }
 },
 "nbformat": 4,
 "nbformat_minor": 2
}
