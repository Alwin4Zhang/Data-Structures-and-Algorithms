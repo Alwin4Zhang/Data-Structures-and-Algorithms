{
 "cells": [
  {
   "cell_type": "code",
   "execution_count": 1,
   "metadata": {},
   "outputs": [
    {
     "data": {
      "text/plain": [
       "'\\n    快速排序\\n    从数列中挑出一个元素，称为\"基准\"（pivot），\\n    重新排序数列，所有元素比基准值小的摆放在基准前面，所有元素比基准值大的摆在基准的后面（相同的数可以到任一边）。在这个分区结束之后，该基准就处于数列的中间位置。这个称为分区（partition）操作。\\n    递归地（recursive）把小于基准值元素的子数列和大于基准值元素的子数列排序。\\n\\n    实现方式:\\n\\n    最优时间复杂度:O(nlogn)\\n    最坏时间复杂度:O(n^2)\\n\\n'"
      ]
     },
     "execution_count": 1,
     "metadata": {},
     "output_type": "execute_result"
    }
   ],
   "source": [
    "\"\"\"\n",
    "    快速排序\n",
    "    从数列中挑出一个元素，称为\"基准\"（pivot），\n",
    "    重新排序数列，所有元素比基准值小的摆放在基准前面，所有元素比基准值大的摆在基准的后面（相同的数可以到任一边）。在这个分区结束之后，\n",
    "    该基准就处于数列的中间位置。这个称为分区（partition）操作。\n",
    "    递归地（recursive）把小于基准值元素的子数列和大于基准值元素的子数列排序。\n",
    "\n",
    "    实现方式:\n",
    "    最优时间复杂度:O(nlogn)\n",
    "    最坏时间复杂度:O(n^2)\n",
    "\n",
    "\"\"\""
   ]
  },
  {
   "cell_type": "code",
   "execution_count": 5,
   "metadata": {},
   "outputs": [],
   "source": [
    "def quick_sort(alist,start,end):\n",
    "    #递归退出条件  当start == end时 代表当前数组中只有一个元素 不需要继续操作\n",
    "    if start >= end: \n",
    "        return \n",
    "    # 设定起始元素为要寻找位置的基准元素\n",
    "    mid = alist[start]\n",
    "    \n",
    "    # low为序列左边的由左向右移动的游标\n",
    "    low = start\n",
    "    \n",
    "    # high 为序列右边的由右向左移动的游标\n",
    "    high = end\n",
    "    \n",
    "    while low < high:\n",
    "        #如果low与high未重合,high指向的元素不比基准小,则high向左移动\n",
    "        while low < high and alist[high] >= mid:\n",
    "            high -= 1\n",
    "        \n",
    "        # 如果出现alist[high] < mid 将high指向的元素放到low的位置上 \n",
    "        # 此时的low没有移动 指向0 是start位置54 被high位数字替换 \n",
    "        alist[low] = alist[high]\n",
    "        \n",
    "        #如果low与high未重合 low指向的元素比基准元素小,则low向右移动\n",
    "        while low < high and alist[low] < mid:\n",
    "            low += 1\n",
    "        # 将low指向的元素放到high的位置上\n",
    "        alist[high] = alist[low]\n",
    "        \n",
    "    #退出循环后,low与high重合,此时所指向的位置为基准元素的正确位置\n",
    "    #将基准元素放到该位置\n",
    "    alist[low] = mid\n",
    "    \n",
    "    #对基准元素左边的子序列进行快速排序\n",
    "    quick_sort(alist,start,low-1)\n",
    "\n",
    "    #对基准元素右边的子序列进行快速排序\n",
    "    quick_sort(alist,low+1,end)"
   ]
  },
  {
   "cell_type": "code",
   "execution_count": 6,
   "metadata": {},
   "outputs": [
    {
     "name": "stdout",
     "output_type": "stream",
     "text": [
      "[17, 20, 26, 31, 44, 54, 55, 77, 93]\n"
     ]
    }
   ],
   "source": [
    "alist = [54, 26, 93, 17, 77, 31, 44, 55, 20]\n",
    "quick_sort(alist,0,len(alist)-1)\n",
    "print(alist)"
   ]
  },
  {
   "cell_type": "code",
   "execution_count": null,
   "metadata": {},
   "outputs": [],
   "source": []
  }
 ],
 "metadata": {
  "kernelspec": {
   "display_name": "Python 3",
   "language": "python",
   "name": "python3"
  },
  "language_info": {
   "codemirror_mode": {
    "name": "ipython",
    "version": 3
   },
   "file_extension": ".py",
   "mimetype": "text/x-python",
   "name": "python",
   "nbconvert_exporter": "python",
   "pygments_lexer": "ipython3",
   "version": "3.7.7"
  },
  "toc": {
   "base_numbering": 1,
   "nav_menu": {},
   "number_sections": true,
   "sideBar": true,
   "skip_h1_title": false,
   "title_cell": "Table of Contents",
   "title_sidebar": "Contents",
   "toc_cell": false,
   "toc_position": {},
   "toc_section_display": true,
   "toc_window_display": false
  }
 },
 "nbformat": 4,
 "nbformat_minor": 2
}
