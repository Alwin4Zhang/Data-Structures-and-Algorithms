{
 "cells": [
  {
   "cell_type": "code",
   "execution_count": 1,
   "metadata": {},
   "outputs": [
    {
     "data": {
      "text/plain": [
       "'\\n    二分查找\\n    类似于字典查找字\\n    针对有序序列\\n    首先定位到有序序列中间值 然后判断目标数字在哪边\\n    然后递归进行，直到找到\\n\\n'"
      ]
     },
     "execution_count": 1,
     "metadata": {},
     "output_type": "execute_result"
    }
   ],
   "source": [
    "\"\"\"\n",
    "    二分查找\n",
    "    类似于字典查找字\n",
    "    针对有序序列\n",
    "    首先定位到有序序列中间值 然后判断目标数字在哪边\n",
    "    然后递归进行，直到找到\n",
    "\"\"\""
   ]
  },
  {
   "cell_type": "code",
   "execution_count": 1,
   "metadata": {
    "ExecuteTime": {
     "end_time": "2020-10-09T06:42:57.476714Z",
     "start_time": "2020-10-09T06:42:57.469099Z"
    }
   },
   "outputs": [],
   "source": [
    "# 递归版本\n",
    "def binary_search(alist,item):\n",
    "    n = len(alist)\n",
    "    if n > 0:\n",
    "        mid = n // 2 \n",
    "        if alist[mid] == item:\n",
    "            return True\n",
    "        elif item < alist[mid]: # 在左半边找\n",
    "            return binary_search(alist[:mid],item)\n",
    "        else: #右半边\n",
    "            return binary_search(alist[mid+1:],item)\n",
    "    return False"
   ]
  },
  {
   "cell_type": "code",
   "execution_count": 6,
   "metadata": {
    "ExecuteTime": {
     "end_time": "2020-10-09T06:43:09.445184Z",
     "start_time": "2020-10-09T06:43:09.437324Z"
    }
   },
   "outputs": [],
   "source": [
    "# 非递归版本\n",
    "def binary_search2(alist,item):\n",
    "    n = len(alist)\n",
    "    first = 0\n",
    "    last = n - 1\n",
    "    while first <= last: # 当first == last时 如果还是没有找到 first 或 last会变动  最后会跳出while循环\n",
    "        mid = (first + last) >> 1\n",
    "        if alist[mid] == item:\n",
    "            return True\n",
    "        elif item < alist[mid]:\n",
    "            last = mid - 1\n",
    "        else:\n",
    "            first = mid + 1\n",
    "    return False"
   ]
  },
  {
   "cell_type": "code",
   "execution_count": 7,
   "metadata": {
    "ExecuteTime": {
     "end_time": "2020-10-09T06:43:09.760451Z",
     "start_time": "2020-10-09T06:43:09.756245Z"
    }
   },
   "outputs": [],
   "source": [
    "alist = [17, 20, 26, 31, 44, 54, 55, 77, 93]"
   ]
  },
  {
   "cell_type": "code",
   "execution_count": 8,
   "metadata": {
    "ExecuteTime": {
     "end_time": "2020-10-09T06:43:10.048311Z",
     "start_time": "2020-10-09T06:43:10.042192Z"
    }
   },
   "outputs": [
    {
     "name": "stdout",
     "output_type": "stream",
     "text": [
      "True\n"
     ]
    },
    {
     "data": {
      "text/plain": [
       "0.000125885009765625"
      ]
     },
     "execution_count": 8,
     "metadata": {},
     "output_type": "execute_result"
    }
   ],
   "source": [
    "import time\n",
    "start_time = time.time()\n",
    "print(binary_search(alist,26))\n",
    "time.time() - start_time"
   ]
  },
  {
   "cell_type": "code",
   "execution_count": 9,
   "metadata": {
    "ExecuteTime": {
     "end_time": "2020-10-09T06:43:10.369950Z",
     "start_time": "2020-10-09T06:43:10.363053Z"
    }
   },
   "outputs": [
    {
     "name": "stdout",
     "output_type": "stream",
     "text": [
      "True\n"
     ]
    },
    {
     "data": {
      "text/plain": [
       "0.0003337860107421875"
      ]
     },
     "execution_count": 9,
     "metadata": {},
     "output_type": "execute_result"
    }
   ],
   "source": [
    "start_time = time.time()\n",
    "print(binary_search2(alist,26))\n",
    "time.time() - start_time"
   ]
  },
  {
   "cell_type": "code",
   "execution_count": 10,
   "metadata": {
    "ExecuteTime": {
     "end_time": "2020-10-09T06:43:10.872951Z",
     "start_time": "2020-10-09T06:43:10.868121Z"
    }
   },
   "outputs": [
    {
     "data": {
      "text/plain": [
       "True"
      ]
     },
     "execution_count": 10,
     "metadata": {},
     "output_type": "execute_result"
    }
   ],
   "source": [
    "alist = [1,3]\n",
    "binary_search2(alist,1)"
   ]
  },
  {
   "cell_type": "code",
   "execution_count": null,
   "metadata": {},
   "outputs": [],
   "source": []
  }
 ],
 "metadata": {
  "kernelspec": {
   "display_name": "Python 3",
   "language": "python",
   "name": "python3"
  },
  "language_info": {
   "codemirror_mode": {
    "name": "ipython",
    "version": 3
   },
   "file_extension": ".py",
   "mimetype": "text/x-python",
   "name": "python",
   "nbconvert_exporter": "python",
   "pygments_lexer": "ipython3",
   "version": "3.6.5"
  },
  "toc": {
   "base_numbering": 1,
   "nav_menu": {},
   "number_sections": true,
   "sideBar": true,
   "skip_h1_title": false,
   "title_cell": "Table of Contents",
   "title_sidebar": "Contents",
   "toc_cell": false,
   "toc_position": {},
   "toc_section_display": true,
   "toc_window_display": false
  }
 },
 "nbformat": 4,
 "nbformat_minor": 2
}
