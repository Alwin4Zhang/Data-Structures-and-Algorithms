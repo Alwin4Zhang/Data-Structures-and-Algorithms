{
 "cells": [
  {
   "cell_type": "code",
   "execution_count": 1,
   "metadata": {},
   "outputs": [
    {
     "data": {
      "text/plain": [
       "'\\n    二分查找\\n    类似于字典查找字\\n    针对有序序列\\n    首先定位到有序序列中间值 然后判断目标数字在哪边\\n    然后递归进行，直到找到\\n\\n'"
      ]
     },
     "execution_count": 1,
     "metadata": {},
     "output_type": "execute_result"
    }
   ],
   "source": [
    "\"\"\"\n",
    "    二分查找\n",
    "    类似于字典查找字\n",
    "    针对有序序列\n",
    "    首先定位到有序序列中间值 然后判断目标数字在哪边\n",
    "    然后递归进行，直到找到\n",
    "\"\"\""
   ]
  },
  {
   "cell_type": "code",
   "execution_count": 2,
   "metadata": {},
   "outputs": [],
   "source": [
    "# 递归版本\n",
    "def binary_search(alist,item):\n",
    "    n = len(alist)\n",
    "    if n > 0:\n",
    "        mid = n // 2 \n",
    "        if alist[mid] == item:\n",
    "            return True\n",
    "        elif item < alist[mid]: # 在左半边找\n",
    "            return binary_search(alist[:mid],item)\n",
    "        else: #右半边\n",
    "            return binary_search(alist[mid+1:],item)\n",
    "    return False"
   ]
  },
  {
   "cell_type": "code",
   "execution_count": null,
   "metadata": {},
   "outputs": [],
   "source": [
    "# 非递归版本\n",
    "def binary_search2(alist,item):\n",
    "    n = len(alist)\n",
    "    first = 0\n",
    "    last = n - 1\n",
    "    while first < last:\n",
    "        mid = (first + last) // 2\n",
    "        if alist[mid] == item:\n",
    "            return True\n",
    "        elif item < alist[mid]:\n",
    "            last = mid - 1  # 改变last位置到mid前一个 first不变 缩到前一半\n",
    "        else:\n",
    "            first = mid + 1 # 改变first位置到mid后一个 last不变 缩到后一半\n",
    "    return False"
   ]
  }
 ],
 "metadata": {
  "kernelspec": {
   "display_name": "Python 3",
   "language": "python",
   "name": "python3"
  },
  "language_info": {
   "codemirror_mode": {
    "name": "ipython",
    "version": 3
   },
   "file_extension": ".py",
   "mimetype": "text/x-python",
   "name": "python",
   "nbconvert_exporter": "python",
   "pygments_lexer": "ipython3",
   "version": "3.6.2"
  }
 },
 "nbformat": 4,
 "nbformat_minor": 2
}
