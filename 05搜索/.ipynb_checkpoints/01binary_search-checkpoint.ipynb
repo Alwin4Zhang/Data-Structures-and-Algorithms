{
 "cells": [
  {
   "cell_type": "code",
   "execution_count": 1,
   "metadata": {},
   "outputs": [
    {
     "data": {
      "text/plain": [
       "'\\n    二分查找\\n    类似于字典查找字\\n    针对有序序列\\n    首先定位到有序序列中间值 然后判断目标数字在哪边\\n    然后递归进行，直到找到\\n\\n'"
      ]
     },
     "execution_count": 1,
     "metadata": {},
     "output_type": "execute_result"
    }
   ],
   "source": [
    "\"\"\"\n",
    "    二分查找\n",
    "    类似于字典查找字\n",
    "    针对有序序列\n",
    "    首先定位到有序序列中间值 然后判断目标数字在哪边\n",
    "    然后递归进行，直到找到\n",
    "\"\"\""
   ]
  },
  {
   "cell_type": "code",
   "execution_count": 1,
   "metadata": {
    "ExecuteTime": {
     "end_time": "2020-09-05T08:29:16.980466Z",
     "start_time": "2020-09-05T08:29:16.974616Z"
    }
   },
   "outputs": [],
   "source": [
    "# 递归版本\n",
    "def binary_search(alist,item):\n",
    "    n = len(alist)\n",
    "    if n > 0:\n",
    "        mid = n // 2 \n",
    "        if alist[mid] == item:\n",
    "            return True\n",
    "        elif item < alist[mid]: # 在左半边找\n",
    "            return binary_search(alist[:mid],item)\n",
    "        else: #右半边\n",
    "            return binary_search(alist[mid+1:],item)\n",
    "    return False"
   ]
  },
  {
   "cell_type": "code",
   "execution_count": 17,
   "metadata": {
    "ExecuteTime": {
     "end_time": "2020-09-05T08:31:54.082220Z",
     "start_time": "2020-09-05T08:31:54.076783Z"
    }
   },
   "outputs": [],
   "source": [
    "# 非递归版本\n",
    "def binary_search2(alist,item):\n",
    "    n = len(alist)\n",
    "    first = 0\n",
    "    last = n - 1\n",
    "    while first < last:\n",
    "        mid = (first + last) // 2\n",
    "        if alist[mid] == item:\n",
    "            return True\n",
    "        elif item < alist[mid]:\n",
    "            last = mid - 1  # 改变last位置到mid前一个 first不变 缩到前一半\n",
    "        else:\n",
    "            first = mid + 1 # 改变first位置到mid后一个 last不变 缩到后一半\n",
    "    return False"
   ]
  },
  {
   "cell_type": "code",
   "execution_count": 4,
   "metadata": {
    "ExecuteTime": {
     "end_time": "2020-09-05T08:29:25.796887Z",
     "start_time": "2020-09-05T08:29:25.793689Z"
    }
   },
   "outputs": [],
   "source": [
    "alist = [17, 20, 26, 31, 44, 54, 55, 77, 93]"
   ]
  },
  {
   "cell_type": "code",
   "execution_count": 8,
   "metadata": {
    "ExecuteTime": {
     "end_time": "2020-09-05T08:29:36.872813Z",
     "start_time": "2020-09-05T08:29:36.866563Z"
    }
   },
   "outputs": [
    {
     "name": "stdout",
     "output_type": "stream",
     "text": [
      "True\n"
     ]
    },
    {
     "data": {
      "text/plain": [
       "0.0004260540008544922"
      ]
     },
     "execution_count": 8,
     "metadata": {},
     "output_type": "execute_result"
    }
   ],
   "source": [
    "import time\n",
    "start_time = time.time()\n",
    "print(binary_search(alist,26))\n",
    "time.time() - start_time"
   ]
  },
  {
   "cell_type": "code",
   "execution_count": 18,
   "metadata": {
    "ExecuteTime": {
     "end_time": "2020-09-05T08:31:56.209978Z",
     "start_time": "2020-09-05T08:31:56.204749Z"
    }
   },
   "outputs": [
    {
     "name": "stdout",
     "output_type": "stream",
     "text": [
      "True\n"
     ]
    },
    {
     "data": {
      "text/plain": [
       "0.0002460479736328125"
      ]
     },
     "execution_count": 18,
     "metadata": {},
     "output_type": "execute_result"
    }
   ],
   "source": [
    "start_time = time.time()\n",
    "print(binary_search2(alist,44))\n",
    "time.time() - start_time"
   ]
  },
  {
   "cell_type": "code",
   "execution_count": null,
   "metadata": {},
   "outputs": [],
   "source": []
  }
 ],
 "metadata": {
  "kernelspec": {
   "display_name": "Python 3",
   "language": "python",
   "name": "python3"
  },
  "language_info": {
   "codemirror_mode": {
    "name": "ipython",
    "version": 3
   },
   "file_extension": ".py",
   "mimetype": "text/x-python",
   "name": "python",
   "nbconvert_exporter": "python",
   "pygments_lexer": "ipython3",
   "version": "3.7.7"
  },
  "toc": {
   "base_numbering": 1,
   "nav_menu": {},
   "number_sections": true,
   "sideBar": true,
   "skip_h1_title": false,
   "title_cell": "Table of Contents",
   "title_sidebar": "Contents",
   "toc_cell": false,
   "toc_position": {},
   "toc_section_display": true,
   "toc_window_display": false
  }
 },
 "nbformat": 4,
 "nbformat_minor": 2
}
