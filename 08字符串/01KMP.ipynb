{
 "cells": [
  {
   "cell_type": "markdown",
   "metadata": {},
   "source": [
    "# KMP 字符串匹配算法"
   ]
  },
  {
   "cell_type": "raw",
   "metadata": {
    "ExecuteTime": {
     "end_time": "2020-09-05T08:40:40.356159Z",
     "start_time": "2020-09-05T08:40:40.351949Z"
    }
   },
   "source": [
    "\"\"\"\n",
    "生成next数组的关键:\n",
    "\n",
    "求next数组的过程完全可以看成字符串匹配的过程，即以模式字符串为主字符串，以模式字符串的前缀为目标字符串，\n",
    "一旦字符串匹配成功，那么当前的next值就是匹配成功的字符串的长度。\n",
    "\n",
    "具体来说，就是从模式字符串的第一位(注意，不包括第0位)开始对自身进行匹配运算。 \n",
    "\n",
    "重点:当前的next值就是匹配成功的字符串的长度\n",
    "\n",
    "    i\n",
    "(1)abababca\n",
    "    abababca   next[2] = 0\n",
    "    j\n",
    "     i\n",
    "(2)abababca\n",
    "     abababca   next[3] = 1\n",
    "     j \n",
    "      \n",
    "      i\n",
    "(3)abababca\n",
    "     abababca   next[4] = 2\n",
    "      j\n",
    "      \n",
    "       i \n",
    "(4)abababca\n",
    "     abababca   next[5] = 3\n",
    "       j\n",
    "      \n",
    "        i\n",
    "(5)abababca\n",
    "     abababca   next[6] = 4\n",
    "        j\n",
    "        \n",
    "         i\n",
    "(6)abababca\n",
    "         abababca  next[7] = 0\n",
    "         j\n",
    "\"\"\""
   ]
  },
  {
   "cell_type": "code",
   "execution_count": 1,
   "metadata": {
    "ExecuteTime": {
     "end_time": "2020-09-05T08:22:52.036381Z",
     "start_time": "2020-09-05T08:22:52.029285Z"
    }
   },
   "outputs": [],
   "source": [
    "\"\"\"\n",
    "(1) 因为k=-1              所以i = 1,k = 0,pnext[1] = 0\n",
    "(2) 因为k=0 p[1] != p[0]  所以 k = pnext[k] = pnext[0] = -1\n",
    "(3) 因为k=-1              所以 i = 2,k=0 pnext[2] = 0\n",
    "(4) 因为k=0 p[2] == p[0]  所以 i=3,k=1 pnext[3] = 1\n",
    "(5) 因为k=1 p[3] = p[1]   所以 i=4,k=2 pnext[4] = 2\n",
    "(6) 因为k=2 p[4] = p[2]   所以 i=5,k=3 pnext[5] = 3\n",
    "(7) 因为k=3 p[5] = p[3]   所以 i=6,k=4 pnext[6] = 4\n",
    "(8) 因为k=4,p[6] != p[4]  所以 k=pnext[4]=2\n",
    "(9) 因为k=2,p[6] != p[2]  所以 k=pnext[2] = 0\n",
    "(10)因为k=0, p[6] != p[0] 所以 k=pnext[0] = -1\n",
    "(11)因为k=-1              所以 i=7,k=0 pnext[7] = 0\n",
    "\"\"\"\n",
    "\n",
    "def gen_pnext(p):\n",
    "    '''生成针对p中各位置i的下一个检查位置表'''\n",
    "    i,k,m = 0,-1,len(p)\n",
    "    pnext = [-1] * m\n",
    "    while i < m-1:\n",
    "        if k == -1 or p[i] == p[k]:\n",
    "            i,k = i+1,k+1\n",
    "            pnext[i] = k # 设置pnext元素\n",
    "        else:\n",
    "            k = pnext[k]\n",
    "    return pnext"
   ]
  },
  {
   "cell_type": "code",
   "execution_count": 2,
   "metadata": {
    "ExecuteTime": {
     "end_time": "2020-09-05T08:22:54.050020Z",
     "start_time": "2020-09-05T08:22:54.043924Z"
    }
   },
   "outputs": [],
   "source": [
    "# next数组记录的是pattern模式串自身跟自身错位比较开始，每一时刻相同前缀后缀的长度 列出所有的可能 用于跟待匹配的字符串进行失配移位\n",
    "# 失配时，模式串向右移动的位数为：失配字符所在位置 - 失配字符对应的next 值\n",
    "\"\"\"\n",
    "每当模式串失配时，i为next值，i前移相当于模式串后移 \n",
    "模式串向后移动的步数 = 失配字符串的位置 - 失配字符对应的next值\n",
    "\"\"\"\n",
    "\n",
    "def KMP(target,pattern,pnext):\n",
    "    j,i,n,m = 0,0,len(target),len(pattern)\n",
    "    while i < m and j < n:\n",
    "        if j == -1 or target[j] == pattern[i]:\n",
    "            i,j = i+1,j+1\n",
    "        else:\n",
    "            i = pnext[i] \n",
    "    if i == m:\n",
    "        return j - i\n",
    "    return -1 "
   ]
  },
  {
   "cell_type": "code",
   "execution_count": 3,
   "metadata": {
    "ExecuteTime": {
     "end_time": "2020-09-05T08:22:54.632838Z",
     "start_time": "2020-09-05T08:22:54.619387Z"
    }
   },
   "outputs": [
    {
     "name": "stdout",
     "output_type": "stream",
     "text": [
      "[-1, 0, 0, 1, 2, 3, 4, 0]\n"
     ]
    },
    {
     "data": {
      "text/plain": [
       "2"
      ]
     },
     "execution_count": 3,
     "metadata": {},
     "output_type": "execute_result"
    }
   ],
   "source": [
    "target = 'ababababca'\n",
    "pattern ='abababca'\n",
    "pnext = gen_pnext(pattern)\n",
    "print(pnext)\n",
    "KMP(target,pattern,pnext)"
   ]
  },
  {
   "cell_type": "code",
   "execution_count": null,
   "metadata": {},
   "outputs": [],
   "source": [
    "\"\"\"\n",
    "      i\n",
    "ababababca\n",
    "abababca\n",
    "      j\n",
    "\"\"\""
   ]
  }
 ],
 "metadata": {
  "kernelspec": {
   "display_name": "Python 3",
   "language": "python",
   "name": "python3"
  },
  "language_info": {
   "codemirror_mode": {
    "name": "ipython",
    "version": 3
   },
   "file_extension": ".py",
   "mimetype": "text/x-python",
   "name": "python",
   "nbconvert_exporter": "python",
   "pygments_lexer": "ipython3",
   "version": "3.7.7"
  },
  "toc": {
   "base_numbering": 1,
   "nav_menu": {},
   "number_sections": true,
   "sideBar": true,
   "skip_h1_title": false,
   "title_cell": "Table of Contents",
   "title_sidebar": "Contents",
   "toc_cell": false,
   "toc_position": {},
   "toc_section_display": true,
   "toc_window_display": false
  }
 },
 "nbformat": 4,
 "nbformat_minor": 2
}
