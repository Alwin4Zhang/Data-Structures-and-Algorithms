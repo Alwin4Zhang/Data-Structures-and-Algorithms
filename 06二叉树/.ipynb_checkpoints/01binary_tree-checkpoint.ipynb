{
 "cells": [
  {
   "cell_type": "code",
   "execution_count": 1,
   "metadata": {},
   "outputs": [
    {
     "data": {
      "text/plain": [
       "'\\n    二叉树\\n    实际上是通过一个维护一个队列实现的\\n    a -> b,c b -> d,e  c -> f,g\\n'"
      ]
     },
     "execution_count": 1,
     "metadata": {},
     "output_type": "execute_result"
    }
   ],
   "source": [
    "\"\"\"\n",
    "    二叉树\n",
    "    实际上是通过一个维护一个队列实现的\n",
    "    a -> b,c b -> d,e  c -> f,g\n",
    "\"\"\""
   ]
  },
  {
   "cell_type": "code",
   "execution_count": 3,
   "metadata": {},
   "outputs": [],
   "source": [
    "class Node(object):\n",
    "    def __init__(self,item):\n",
    "        self.elem = item\n",
    "        self.lchild = None\n",
    "        self.rchild = None"
   ]
  },
  {
   "cell_type": "code",
   "execution_count": 4,
   "metadata": {},
   "outputs": [],
   "source": [
    "class Tree(object):\n",
    "    '''二叉树'''\n",
    "    def __init__(self):\n",
    "        self.root = None\n",
    "    \n",
    "    def add(self,item):\n",
    "        node = Node(item)\n",
    "        '''假如树是空的'''\n",
    "        if self.root == None:\n",
    "            self.root = node\n",
    "            return \n",
    "        queue = [self.root] # 添加根节点\n",
    "        while queue:\n",
    "            cur_node = queue.pop(0)\n",
    "            if cur_node.lchild is None:\n",
    "                cur_node.lchild = node\n",
    "                return \n",
    "            else:\n",
    "                queue.append(cur_node.lchild)\n",
    "            if cur_node.rchild is None:\n",
    "                cur_node.rchild = node\n",
    "                return \n",
    "            else:\n",
    "                queue.append(cur_node.rchild)\n",
    "                \n",
    "    def breath_travel(self):\n",
    "        '''广度优先遍历'''\n",
    "        if self.root == None:\n",
    "            return \n",
    "        queue = [self.root]\n",
    "        while queue:\n",
    "            cur_node = queue.pop(0)\n",
    "            print(cur_node.elem,end=' ')\n",
    "            if cur_node.lchild is not None:\n",
    "                queue.append(cur_node.lchild)\n",
    "            if cur_node.rchild is not None:\n",
    "                queue.append(cur_node.rchild)\n",
    "    \"\"\"\n",
    "        先序遍历 先根 后左子 后右字\n",
    "        中序遍历 先左子 后根 再右子\n",
    "        后序遍历 先左子 后右子 最后根\n",
    "        0 1 2 3 7 8 4 9 5 6 \n",
    "        先序遍历  0 1 3 7 8 4 9 2 5 6\n",
    "        中序遍历 一直向下找 7 3 8 1 9 4 0 5 2 6\n",
    "        后序遍历 7 8 3 9 4 1 5 6 2 0 \n",
    "    \"\"\"\n",
    "    def preorder(self,node): # 先序\n",
    "        if node == None:\n",
    "            return\n",
    "        print(node.elem,end=' ')\n",
    "        self.preorder(node.lchild)\n",
    "        self.preorder(node.rchild)\n",
    "    \n",
    "    def inorder(self,node): #中序\n",
    "        if node == None:\n",
    "            return \n",
    "        self.inorder(node.lchild)\n",
    "        print(node.elem,end=' ')\n",
    "        self.inorder(node.rchild)\n",
    "    \n",
    "    def postorder(self,node): # 后序\n",
    "        if node == None:\n",
    "            return\n",
    "        self.postorder(node.lchild)\n",
    "        self.postorder(node.rchild)\n",
    "        print(node.elem,end=' ')"
   ]
  },
  {
   "cell_type": "code",
   "execution_count": 5,
   "metadata": {},
   "outputs": [
    {
     "name": "stdout",
     "output_type": "stream",
     "text": [
      "0 1 2 3 4 5 6 7 8 9 \n",
      "0 1 3 7 8 4 9 2 5 6 \n",
      "7 3 8 1 9 4 0 5 2 6 \n",
      "7 8 3 9 4 1 5 6 2 0 "
     ]
    }
   ],
   "source": [
    "tree = Tree()\n",
    "tree.add(0)\n",
    "tree.add(1)\n",
    "tree.add(2)\n",
    "tree.add(3)\n",
    "tree.add(4)\n",
    "tree.add(5)\n",
    "tree.add(6)\n",
    "tree.add(7)\n",
    "tree.add(8)\n",
    "tree.add(9)\n",
    "tree.breath_travel()\n",
    "print()\n",
    "tree.preorder(tree.root)\n",
    "print()\n",
    "tree.inorder(tree.root)\n",
    "print()\n",
    "tree.postorder(tree.root)"
   ]
  },
  {
   "cell_type": "code",
   "execution_count": null,
   "metadata": {},
   "outputs": [],
   "source": []
  }
 ],
 "metadata": {
  "kernelspec": {
   "display_name": "Python 3",
   "language": "python",
   "name": "python3"
  },
  "language_info": {
   "codemirror_mode": {
    "name": "ipython",
    "version": 3
   },
   "file_extension": ".py",
   "mimetype": "text/x-python",
   "name": "python",
   "nbconvert_exporter": "python",
   "pygments_lexer": "ipython3",
   "version": "3.6.2"
  }
 },
 "nbformat": 4,
 "nbformat_minor": 2
}
