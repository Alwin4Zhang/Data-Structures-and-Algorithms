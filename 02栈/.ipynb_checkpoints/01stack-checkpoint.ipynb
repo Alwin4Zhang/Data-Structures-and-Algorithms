{
 "cells": [
  {
   "cell_type": "code",
   "execution_count": 1,
   "metadata": {},
   "outputs": [
    {
     "data": {
      "text/plain": [
       "'\\n    Stack() 创建一个新的空栈\\n    push(item) 添加一个新的元素item到栈顶\\n    pop() 弹出栈顶元素  删除栈顶的值\\n    peek() 返回栈顶元素  返回栈顶的元素\\n    is_empty() 判断栈是否为空\\n    size() 返回栈的元素个数\\n'"
      ]
     },
     "execution_count": 1,
     "metadata": {},
     "output_type": "execute_result"
    }
   ],
   "source": [
    "\"\"\"\n",
    "    Stack() 创建一个新的空栈\n",
    "    push(item) 添加一个新的元素item到栈顶\n",
    "    pop() 弹出栈顶元素  删除栈顶的值\n",
    "    peek() 返回栈顶元素  返回栈顶的元素\n",
    "    is_empty() 判断栈是否为空\n",
    "    size() 返回栈的元素个数\n",
    "\"\"\""
   ]
  },
  {
   "cell_type": "code",
   "execution_count": 2,
   "metadata": {},
   "outputs": [],
   "source": [
    "class Stack(object):\n",
    "    def __init__(self):\n",
    "        self.__items = []\n",
    "        \n",
    "    def is_empty(self):\n",
    "        return self.__items == []\n",
    "    \n",
    "    def size(self):\n",
    "        return len(self.__items)\n",
    "    \n",
    "    def push(self,item): # 压栈\n",
    "        self.__items.append(item)\n",
    "    \n",
    "    def pop(self):#弹出栈顶元素 删除栈顶的值\n",
    "        return self.__items.pop()\n",
    "    \n",
    "    def peek(self): # 返回栈顶元素\n",
    "        return self.__items[-1]"
   ]
  },
  {
   "cell_type": "code",
   "execution_count": 3,
   "metadata": {},
   "outputs": [],
   "source": [
    "s = Stack()"
   ]
  },
  {
   "cell_type": "code",
   "execution_count": 4,
   "metadata": {},
   "outputs": [],
   "source": [
    "s.push('hello')"
   ]
  },
  {
   "cell_type": "code",
   "execution_count": 5,
   "metadata": {},
   "outputs": [],
   "source": [
    "s.push('world')"
   ]
  },
  {
   "cell_type": "code",
   "execution_count": 6,
   "metadata": {},
   "outputs": [],
   "source": [
    "s.push('python')"
   ]
  },
  {
   "cell_type": "code",
   "execution_count": 7,
   "metadata": {},
   "outputs": [
    {
     "data": {
      "text/plain": [
       "3"
      ]
     },
     "execution_count": 7,
     "metadata": {},
     "output_type": "execute_result"
    }
   ],
   "source": [
    "s.size()"
   ]
  },
  {
   "cell_type": "code",
   "execution_count": 8,
   "metadata": {},
   "outputs": [
    {
     "data": {
      "text/plain": [
       "False"
      ]
     },
     "execution_count": 8,
     "metadata": {},
     "output_type": "execute_result"
    }
   ],
   "source": [
    "s.is_empty()"
   ]
  },
  {
   "cell_type": "code",
   "execution_count": 10,
   "metadata": {},
   "outputs": [
    {
     "name": "stdout",
     "output_type": "stream",
     "text": [
      "None\n"
     ]
    }
   ],
   "source": [
    "print(s.pop())"
   ]
  },
  {
   "cell_type": "code",
   "execution_count": null,
   "metadata": {},
   "outputs": [],
   "source": []
  }
 ],
 "metadata": {
  "kernelspec": {
   "display_name": "Python 3",
   "language": "python",
   "name": "python3"
  },
  "language_info": {
   "codemirror_mode": {
    "name": "ipython",
    "version": 3
   },
   "file_extension": ".py",
   "mimetype": "text/x-python",
   "name": "python",
   "nbconvert_exporter": "python",
   "pygments_lexer": "ipython3",
   "version": "3.6.2"
  }
 },
 "nbformat": 4,
 "nbformat_minor": 2
}
