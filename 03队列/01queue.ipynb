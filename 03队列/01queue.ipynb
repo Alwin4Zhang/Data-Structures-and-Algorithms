{
 "cells": [
  {
   "cell_type": "code",
   "execution_count": 2,
   "metadata": {},
   "outputs": [
    {
     "data": {
      "text/plain": [
       "'\\n    Queue() 创建一个空的队列\\n    enqueue(item) 往队列中添加一个item元素\\n    dequeue() 从队列头部删除一个元素\\n    is_empty() 判断一个队列是否为空\\n    size() 返回队列的大小\\n\\n先进先出\\n'"
      ]
     },
     "execution_count": 2,
     "metadata": {},
     "output_type": "execute_result"
    }
   ],
   "source": [
    "\"\"\"\n",
    "    Queue() 创建一个空的队列\n",
    "    enqueue(item) 往队列中添加一个item元素\n",
    "    dequeue() 从队列头部删除一个元素\n",
    "    is_empty() 判断一个队列是否为空\n",
    "    size() 返回队列的大小\n",
    "\n",
    "先进先出\n",
    "\"\"\""
   ]
  },
  {
   "cell_type": "code",
   "execution_count": 3,
   "metadata": {},
   "outputs": [
    {
     "ename": "SyntaxError",
     "evalue": "invalid syntax (<ipython-input-3-4218c68168f2>, line 6)",
     "output_type": "error",
     "traceback": [
      "\u001b[0;36m  File \u001b[0;32m\"<ipython-input-3-4218c68168f2>\"\u001b[0;36m, line \u001b[0;32m6\u001b[0m\n\u001b[0;31m    return self.__items = []\u001b[0m\n\u001b[0m                        ^\u001b[0m\n\u001b[0;31mSyntaxError\u001b[0m\u001b[0;31m:\u001b[0m invalid syntax\n"
     ]
    }
   ],
   "source": [
    "class Queue(object):\n",
    "    def __init__(self):\n",
    "        self.__items = []\n",
    "    \n",
    "    def is_empty():\n",
    "        return self.__items == []\n",
    "    \n",
    "    def enqueue(self,item):\n",
    "        self.__items.insert(0,item)\n",
    "    \n",
    "    def dequeue(self):\n",
    "        return self.__items.pop()\n",
    "    \n",
    "    def size(self):\n",
    "        return len(self.__items)"
   ]
  },
  {
   "cell_type": "code",
   "execution_count": null,
   "metadata": {},
   "outputs": [],
   "source": []
  }
 ],
 "metadata": {
  "kernelspec": {
   "display_name": "Python 3",
   "language": "python",
   "name": "python3"
  },
  "language_info": {
   "codemirror_mode": {
    "name": "ipython",
    "version": 3
   },
   "file_extension": ".py",
   "mimetype": "text/x-python",
   "name": "python",
   "nbconvert_exporter": "python",
   "pygments_lexer": "ipython3",
   "version": "3.6.2"
  }
 },
 "nbformat": 4,
 "nbformat_minor": 2
}
