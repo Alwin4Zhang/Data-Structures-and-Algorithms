{
 "cells": [
  {
   "cell_type": "code",
   "execution_count": 5,
   "metadata": {
    "ExecuteTime": {
     "end_time": "2020-09-05T08:26:38.285659Z",
     "start_time": "2020-09-05T08:26:38.279796Z"
    }
   },
   "outputs": [],
   "source": [
    "\"\"\"\n",
    "    Queue() 创建一个空的队列\n",
    "    enqueue(item) 往队列中添加一个item元素\n",
    "    dequeue() 从队列头部删除一个元素\n",
    "    is_empty() 判断一个队列是否为空\n",
    "    size() 返回队列的大小\n",
    "\n",
    "先进先出\n",
    "\"\"\"\n",
    "\n",
    "class Queue(object):\n",
    "    def __init__(self):\n",
    "        self.__items = []\n",
    "    \n",
    "    def is_empty():\n",
    "        return self.__items == []\n",
    "    \n",
    "    def enqueue(self,item):\n",
    "        self.__items.insert(0,item)\n",
    "    \n",
    "    def dequeue(self):\n",
    "        return self.__items.pop()\n",
    "    \n",
    "    def size(self):\n",
    "        return len(self.__items)"
   ]
  },
  {
   "cell_type": "code",
   "execution_count": null,
   "metadata": {},
   "outputs": [],
   "source": []
  }
 ],
 "metadata": {
  "kernelspec": {
   "display_name": "Python 3",
   "language": "python",
   "name": "python3"
  },
  "language_info": {
   "codemirror_mode": {
    "name": "ipython",
    "version": 3
   },
   "file_extension": ".py",
   "mimetype": "text/x-python",
   "name": "python",
   "nbconvert_exporter": "python",
   "pygments_lexer": "ipython3",
   "version": "3.7.7"
  },
  "toc": {
   "base_numbering": 1,
   "nav_menu": {},
   "number_sections": true,
   "sideBar": true,
   "skip_h1_title": false,
   "title_cell": "Table of Contents",
   "title_sidebar": "Contents",
   "toc_cell": false,
   "toc_position": {},
   "toc_section_display": true,
   "toc_window_display": false
  }
 },
 "nbformat": 4,
 "nbformat_minor": 2
}
