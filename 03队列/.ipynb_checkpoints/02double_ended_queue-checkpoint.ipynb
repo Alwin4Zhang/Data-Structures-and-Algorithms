{
 "cells": [
  {
   "cell_type": "code",
   "execution_count": 1,
   "metadata": {},
   "outputs": [
    {
     "data": {
      "text/plain": [
       "'\\n    Deque() 创建一个空的双端队列\\n    add_front(item) 从队头加入一个item元素\\n    add_rear(item) 从队尾加入一个item元素\\n    remove_front() 从队头删除一个item元素\\n    remove_rear() 从队尾删除一个item元素\\n    is_empty() 判断双端队列是否为空\\n    size() 返回队列的大小\\n'"
      ]
     },
     "execution_count": 1,
     "metadata": {},
     "output_type": "execute_result"
    }
   ],
   "source": [
    "\"\"\"\n",
    "    Deque() 创建一个空的双端队列\n",
    "    add_front(item) 从队头加入一个item元素\n",
    "    add_rear(item) 从队尾加入一个item元素\n",
    "    remove_front() 从队头删除一个item元素\n",
    "    remove_rear() 从队尾删除一个item元素\n",
    "    is_empty() 判断双端队列是否为空\n",
    "    size() 返回队列的大小\n",
    "    \n",
    "双端先进先出\n",
    "\"\"\""
   ]
  },
  {
   "cell_type": "code",
   "execution_count": 2,
   "metadata": {},
   "outputs": [],
   "source": [
    "class Dequeue(object):\n",
    "    def __init__(self):\n",
    "        self.__items = []\n",
    "    \n",
    "    def is_empty(self):\n",
    "        return self.__items == []\n",
    "    \n",
    "    def add_front(self,item):\n",
    "        self.__items.insert(0,item)\n",
    "    \n",
    "    def add_rear(self,item):\n",
    "        self.__items.append(item)\n",
    "        \n",
    "    def remove_front(self):\n",
    "        self.__items.pop(0)\n",
    "    \n",
    "    def remove_rear(self):\n",
    "        self.__items.pop()\n",
    "        \n",
    "    def travel(self):\n",
    "        for item in self.__items:\n",
    "            print(item,end=' ')\n",
    "    \n",
    "    def size(self):\n",
    "        return len(self.__items)"
   ]
  },
  {
   "cell_type": "code",
   "execution_count": 3,
   "metadata": {},
   "outputs": [],
   "source": [
    "d = Dequeue()"
   ]
  },
  {
   "cell_type": "code",
   "execution_count": 4,
   "metadata": {},
   "outputs": [],
   "source": [
    "d.add_front(0)\n",
    "d.add_front(1)\n",
    "d.add_rear(2)\n",
    "d.add_rear(3)"
   ]
  },
  {
   "cell_type": "code",
   "execution_count": 5,
   "metadata": {},
   "outputs": [
    {
     "data": {
      "text/plain": [
       "4"
      ]
     },
     "execution_count": 5,
     "metadata": {},
     "output_type": "execute_result"
    }
   ],
   "source": [
    "d.size()"
   ]
  },
  {
   "cell_type": "code",
   "execution_count": 6,
   "metadata": {},
   "outputs": [],
   "source": [
    "d.remove_front()"
   ]
  },
  {
   "cell_type": "code",
   "execution_count": 8,
   "metadata": {},
   "outputs": [
    {
     "data": {
      "text/plain": [
       "3"
      ]
     },
     "execution_count": 8,
     "metadata": {},
     "output_type": "execute_result"
    }
   ],
   "source": [
    "d.size()"
   ]
  },
  {
   "cell_type": "code",
   "execution_count": null,
   "metadata": {},
   "outputs": [],
   "source": [
    "d.remove_rear()"
   ]
  }
 ],
 "metadata": {
  "kernelspec": {
   "display_name": "Python 3",
   "language": "python",
   "name": "python3"
  },
  "language_info": {
   "codemirror_mode": {
    "name": "ipython",
    "version": 3
   },
   "file_extension": ".py",
   "mimetype": "text/x-python",
   "name": "python",
   "nbconvert_exporter": "python",
   "pygments_lexer": "ipython3",
   "version": "3.6.2"
  }
 },
 "nbformat": 4,
 "nbformat_minor": 2
}
