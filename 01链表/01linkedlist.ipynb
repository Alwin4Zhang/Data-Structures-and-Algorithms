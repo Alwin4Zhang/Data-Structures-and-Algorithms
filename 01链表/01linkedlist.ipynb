{
 "cells": [
  {
   "cell_type": "code",
   "execution_count": 1,
   "metadata": {},
   "outputs": [
    {
     "data": {
      "text/plain": [
       "'\\n    单链表 的操作\\n    is_empty 链表是否为空\\n    length 链表长度\\n    travel 遍历整个链表\\n    add(item) 链表头部添加元素\\n    append(item) 链表尾部添加元素\\n    insert(pos,item) 指定位置添加元素\\n    remove(item) 移除指定元素\\n'"
      ]
     },
     "execution_count": 1,
     "metadata": {},
     "output_type": "execute_result"
    }
   ],
   "source": [
    "\"\"\"\n",
    "    单链表 的操作\n",
    "    is_empty 链表是否为空\n",
    "    length 链表长度\n",
    "    travel 遍历整个链表\n",
    "    add(item) 链表头部添加元素\n",
    "    append(item) 链表尾部添加元素\n",
    "    insert(pos,item) 指定位置添加元素\n",
    "    remove(item) 移除指定元素\n",
    "\"\"\""
   ]
  },
  {
   "cell_type": "code",
   "execution_count": 2,
   "metadata": {},
   "outputs": [],
   "source": [
    "class Node(object):\n",
    "    '''节点 一个元素区 一个next区'''\n",
    "    def __init__(self,elem):\n",
    "        self.elem = elem # 元素\n",
    "        self.next = None # 地址"
   ]
  },
  {
   "cell_type": "code",
   "execution_count": 23,
   "metadata": {},
   "outputs": [],
   "source": [
    "class SingleLinkList(object):\n",
    "    '''单链表'''\n",
    "    def __init__(self,node=None): # 允许用户默认不传参数 默认为None\n",
    "        self.__head = node # 私有变量\n",
    "    \n",
    "    def is_empty(self):\n",
    "        return self.__head == None\n",
    "    \n",
    "    def length(self):\n",
    "        cur = self.__head\n",
    "        count = 0\n",
    "        while cur != None:\n",
    "            count += 1\n",
    "            cur = cur.next\n",
    "        return count\n",
    "    \n",
    "    def travel(self):\n",
    "        cur = self.__head\n",
    "        while cur != None:\n",
    "            print(cur.elem,end=' ')\n",
    "            cur = cur.next\n",
    "    \n",
    "    def add(self,item):\n",
    "        '''头插法'''\n",
    "        node = Node(item)\n",
    "        #先将node指向原本cur的下一个元素\n",
    "        #只要有元素 self.__head指向第一个元素\n",
    "        node.next = self.__head\n",
    "        self.__head = node\n",
    "    \n",
    "    def append(self,item):\n",
    "        '''追加元素'''\n",
    "        node = Node(item)\n",
    "        if self.is_empty(): # 如果是空链表\n",
    "            self.__head = node\n",
    "        else:\n",
    "            cur = self.__head\n",
    "            while cur.next != None: # 遍历完后末尾指针指向新元素\n",
    "                cur = cur.next\n",
    "            cur.next = node\n",
    "            \n",
    "    def insert(self,pos,item): # 索引插入\n",
    "        \n",
    "        if pos <= 0: # 插到头\n",
    "            self.add(item)\n",
    "        elif pos >= self.length() - 1: # 在最后位置\n",
    "            self.append(item)\n",
    "            \n",
    "        node = Node(item)\n",
    "        # 中间位置\n",
    "        pre = self.__head\n",
    "        count = 0\n",
    "        while count < pos - 1: # 遍历到需要插入的索引位置\n",
    "            count += 1\n",
    "            pre = pre.next\n",
    "        node.next = pre.next\n",
    "        pre.next = node\n",
    "    \n",
    "    def remove(self,item):\n",
    "        cur = self.__head\n",
    "        pre = None   # cur的前一个元素\n",
    "        while cur != None:\n",
    "            if cur.elem == item:\n",
    "                if cur == self.__head: # item就是头元素 是第一个元素\n",
    "                    self.__head = cur.next  # 直接指向第二个元素\n",
    "                else:\n",
    "                    pre.next = cur.next\n",
    "                break\n",
    "            else:\n",
    "                pre = cur\n",
    "                cur = cur.next\n",
    "    \n",
    "    def search(self,item):\n",
    "        cur = self.__head\n",
    "        while cur != None:\n",
    "            if cur.elem == item:\n",
    "                return True\n",
    "            else:\n",
    "                cur = cur.next\n",
    "        return False"
   ]
  },
  {
   "cell_type": "code",
   "execution_count": 26,
   "metadata": {},
   "outputs": [],
   "source": [
    "sll = SingleLinkList()"
   ]
  },
  {
   "cell_type": "code",
   "execution_count": 27,
   "metadata": {},
   "outputs": [
    {
     "name": "stdout",
     "output_type": "stream",
     "text": [
      "True\n"
     ]
    }
   ],
   "source": [
    "print(sll.is_empty())"
   ]
  },
  {
   "cell_type": "code",
   "execution_count": 28,
   "metadata": {},
   "outputs": [],
   "source": [
    "sll.append(1)\n",
    "sll.append(2)"
   ]
  },
  {
   "cell_type": "code",
   "execution_count": 29,
   "metadata": {},
   "outputs": [
    {
     "name": "stdout",
     "output_type": "stream",
     "text": [
      "False\n"
     ]
    }
   ],
   "source": [
    "print(sll.is_empty())"
   ]
  },
  {
   "cell_type": "code",
   "execution_count": 30,
   "metadata": {},
   "outputs": [
    {
     "name": "stdout",
     "output_type": "stream",
     "text": [
      "1 2 "
     ]
    }
   ],
   "source": [
    "sll.travel()"
   ]
  },
  {
   "cell_type": "code",
   "execution_count": 31,
   "metadata": {},
   "outputs": [],
   "source": [
    "sll.add(10)"
   ]
  },
  {
   "cell_type": "code",
   "execution_count": 32,
   "metadata": {},
   "outputs": [
    {
     "name": "stdout",
     "output_type": "stream",
     "text": [
      "10 1 2 "
     ]
    }
   ],
   "source": [
    "sll.travel()"
   ]
  },
  {
   "cell_type": "code",
   "execution_count": 33,
   "metadata": {},
   "outputs": [],
   "source": [
    "sll.insert(1,5)"
   ]
  },
  {
   "cell_type": "code",
   "execution_count": 34,
   "metadata": {},
   "outputs": [
    {
     "name": "stdout",
     "output_type": "stream",
     "text": [
      "10 5 1 2 "
     ]
    }
   ],
   "source": [
    "sll.travel()"
   ]
  },
  {
   "cell_type": "code",
   "execution_count": 35,
   "metadata": {},
   "outputs": [],
   "source": [
    "sll.remove(5)"
   ]
  },
  {
   "cell_type": "code",
   "execution_count": 36,
   "metadata": {},
   "outputs": [
    {
     "name": "stdout",
     "output_type": "stream",
     "text": [
      "10 1 2 "
     ]
    }
   ],
   "source": [
    "sll.travel()"
   ]
  },
  {
   "cell_type": "code",
   "execution_count": 37,
   "metadata": {},
   "outputs": [
    {
     "data": {
      "text/plain": [
       "3"
      ]
     },
     "execution_count": 37,
     "metadata": {},
     "output_type": "execute_result"
    }
   ],
   "source": [
    "sll.length()"
   ]
  },
  {
   "cell_type": "code",
   "execution_count": 38,
   "metadata": {},
   "outputs": [
    {
     "data": {
      "text/plain": [
       "True"
      ]
     },
     "execution_count": 38,
     "metadata": {},
     "output_type": "execute_result"
    }
   ],
   "source": [
    "sll.search(1)"
   ]
  },
  {
   "cell_type": "code",
   "execution_count": null,
   "metadata": {},
   "outputs": [],
   "source": []
  }
 ],
 "metadata": {
  "kernelspec": {
   "display_name": "Python 3",
   "language": "python",
   "name": "python3"
  },
  "language_info": {
   "codemirror_mode": {
    "name": "ipython",
    "version": 3
   },
   "file_extension": ".py",
   "mimetype": "text/x-python",
   "name": "python",
   "nbconvert_exporter": "python",
   "pygments_lexer": "ipython3",
   "version": "3.6.5"
  },
  "toc": {
   "base_numbering": 1,
   "nav_menu": {},
   "number_sections": true,
   "sideBar": true,
   "skip_h1_title": false,
   "title_cell": "Table of Contents",
   "title_sidebar": "Contents",
   "toc_cell": false,
   "toc_position": {},
   "toc_section_display": true,
   "toc_window_display": false
  }
 },
 "nbformat": 4,
 "nbformat_minor": 2
}
