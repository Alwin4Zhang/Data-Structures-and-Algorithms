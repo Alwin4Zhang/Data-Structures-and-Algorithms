{
 "cells": [
  {
   "cell_type": "code",
   "execution_count": 1,
   "metadata": {},
   "outputs": [
    {
     "data": {
      "text/plain": [
       "'\\n    单向循环链表\\n    is_empty 链表是否为空\\n    length 链表长度\\n    travel 遍历整个链表\\n    add(item) 链表头部添加元素\\n    append(item) 链表尾部添加元素\\n    insert(pos,item) 指定位置添加元素\\n    remove(item) 移除指定元素\\n'"
      ]
     },
     "execution_count": 1,
     "metadata": {},
     "output_type": "execute_result"
    }
   ],
   "source": [
    "\"\"\"\n",
    "    单向循环链表\n",
    "    is_empty 链表是否为空\n",
    "    length 链表长度\n",
    "    travel 遍历整个链表\n",
    "    add(item) 链表头部添加元素\n",
    "    append(item) 链表尾部添加元素\n",
    "    insert(pos,item) 指定位置添加元素\n",
    "    remove(item) 移除指定元素\n",
    "\"\"\""
   ]
  },
  {
   "cell_type": "code",
   "execution_count": 19,
   "metadata": {},
   "outputs": [],
   "source": [
    "class Node(object):\n",
    "    def __init__(self,elem):\n",
    "        self.elem = elem\n",
    "        self.next = None"
   ]
  },
  {
   "cell_type": "code",
   "execution_count": 33,
   "metadata": {},
   "outputs": [],
   "source": [
    "class SingleCycleLinkedList(object):\n",
    "    def __init__(self,node=None):\n",
    "        self.__head = node\n",
    "        \n",
    "    def is_empty(self):\n",
    "        return self.__head == None\n",
    "    \n",
    "    def length(self):\n",
    "        if self.is_empty():\n",
    "            return 0\n",
    "        cur = self.__head\n",
    "        count = 1 \n",
    "        while cur.next != self.__head: # 从1开始是因为cur移动到最后一个元素时 就不移动了 lenght - 2处\n",
    "            count += 1\n",
    "            cur = cur.next\n",
    "        return count\n",
    "    \n",
    "    def travel(self):\n",
    "        if self.is_empty():\n",
    "            return \n",
    "        cur = self.__head\n",
    "        while cur.next != self.__head: \n",
    "            print(cur.elem,end=' ')\n",
    "            cur = cur.next\n",
    "        print(cur.elem) # 需要输出最后一个元素\n",
    "        print(\"\")\n",
    "    \n",
    "    def add(self,item): # '头插法'\n",
    "        node = Node(item)\n",
    "        if self.is_empty(): # 循环链表\n",
    "            self.__head = node\n",
    "            node.next = self.__head\n",
    "        else: # 添加的节点指向__head\n",
    "            cur = self.__head\n",
    "            while cur.next != self.__head: #链表非空的话，先遍历找到尾节点\n",
    "                cur = cur.next\n",
    "            node.next = self.__head  #在头部添加，注意赋值顺序\n",
    "            self.__head = node\n",
    "            cur.next = self.__head   #这里使遍历找到的尾节点重新指向新的头节点\n",
    "\n",
    "    def append(self,item): #尾插法\n",
    "        node = Node(item)\n",
    "        if self.is_empty():\n",
    "            self.__head = node\n",
    "            node.next = self.__head\n",
    "        else:\n",
    "            # 移动到链接尾部\n",
    "            cur = self.__head\n",
    "            while cur.next != self.__head:\n",
    "                cur = cur.next\n",
    "            node.next = self.__head\n",
    "            cur.next = node\n",
    "            \n",
    "    def insert(self,pos,item):\n",
    "        if pos <= 0:\n",
    "            self.add(item)\n",
    "        elif pos > self.length() - 1:\n",
    "            self.append(item)\n",
    "        else:\n",
    "            node = Node(item)\n",
    "            cur = self.__head\n",
    "            count = 0 \n",
    "            while count < pos-1:\n",
    "                count += 1\n",
    "                cur = cur.next\n",
    "            node.next = cur.next\n",
    "            cur.next = node\n",
    "    \n",
    "    def remove(self,item):\n",
    "        if self.is_empty():\n",
    "            return\n",
    "        # 将cur指向头结点\n",
    "        cur = self.__head\n",
    "        pre = None\n",
    "        if cur.elem == item: #头结点就是要删除的节点\n",
    "            if cur.next != self.__head:\n",
    "                while cur.next != self.__head: # 如果链表不止一个节点 遍历到最后一个元素\n",
    "                    cur = cur.next\n",
    "                cur.next = self.__head.next #尾节点指向self.__head指向的元素的后一个元素\n",
    "                self.__head = self.__head.next # head元素指向后一个元素\n",
    "            else: #链表中只有一个节点\n",
    "                self.__head = None\n",
    "        else:# 非头结点\n",
    "            pre = self.__head\n",
    "            while cur.next != self.__head:\n",
    "                if cur.elem == item:\n",
    "                    pre.next = cur.next\n",
    "                    return \n",
    "                else:\n",
    "                    pre = cur \n",
    "                    cur = cur.next\n",
    "            if cur.elem == item: #要删除的是尾节点\n",
    "                pre.next = cur.next \n",
    "    \n",
    "    def search(self,item):\n",
    "        if self.is_empty():\n",
    "            return False\n",
    "        cur = self.__head\n",
    "        if cur.elem == item:#头结点\n",
    "            return True\n",
    "        while cur.next != self.__head:\n",
    "            cur = cur.next\n",
    "            if cur.elem == item:\n",
    "                return True\n",
    "        return False\n",
    "            \n",
    "            "
   ]
  },
  {
   "cell_type": "code",
   "execution_count": 34,
   "metadata": {},
   "outputs": [],
   "source": [
    "scll = SingleCycleLinkedList()"
   ]
  },
  {
   "cell_type": "code",
   "execution_count": 35,
   "metadata": {},
   "outputs": [],
   "source": [
    "# 添加元素\n",
    "scll.add(1)\n",
    "scll.add(2)\n",
    "scll.append(3)\n",
    "scll.insert(0,1)"
   ]
  },
  {
   "cell_type": "code",
   "execution_count": 36,
   "metadata": {},
   "outputs": [
    {
     "name": "stdout",
     "output_type": "stream",
     "text": [
      "1 2 1 3\n",
      "\n"
     ]
    }
   ],
   "source": [
    "scll.travel()"
   ]
  },
  {
   "cell_type": "code",
   "execution_count": 37,
   "metadata": {},
   "outputs": [],
   "source": [
    "scll.remove(1)"
   ]
  },
  {
   "cell_type": "code",
   "execution_count": 38,
   "metadata": {},
   "outputs": [
    {
     "name": "stdout",
     "output_type": "stream",
     "text": [
      "2 1 3\n",
      "\n"
     ]
    }
   ],
   "source": [
    "scll.travel()"
   ]
  },
  {
   "cell_type": "code",
   "execution_count": 39,
   "metadata": {},
   "outputs": [
    {
     "data": {
      "text/plain": [
       "True"
      ]
     },
     "execution_count": 39,
     "metadata": {},
     "output_type": "execute_result"
    }
   ],
   "source": [
    "scll.search(2)"
   ]
  },
  {
   "cell_type": "code",
   "execution_count": null,
   "metadata": {},
   "outputs": [],
   "source": []
  }
 ],
 "metadata": {
  "kernelspec": {
   "display_name": "Python 3",
   "language": "python",
   "name": "python3"
  },
  "language_info": {
   "codemirror_mode": {
    "name": "ipython",
    "version": 3
   },
   "file_extension": ".py",
   "mimetype": "text/x-python",
   "name": "python",
   "nbconvert_exporter": "python",
   "pygments_lexer": "ipython3",
   "version": "3.6.2"
  }
 },
 "nbformat": 4,
 "nbformat_minor": 2
}
