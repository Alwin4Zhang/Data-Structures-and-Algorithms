{
 "cells": [
  {
   "cell_type": "code",
   "execution_count": 1,
   "metadata": {},
   "outputs": [
    {
     "data": {
      "text/plain": [
       "'\\n    is_empty() 链表是否为空\\n    length() 链表长度\\n    travel() 遍历链表\\n    add(item) 链表头部添加\\n    append(item) 链表尾部添加\\n    insert(pos, item) 指定位置添加\\n    remove(item) 删除节点\\n    search(item) 查找节点是否存在\\n\\n    双向链表包含三个区 prev data next\\n'"
      ]
     },
     "execution_count": 1,
     "metadata": {},
     "output_type": "execute_result"
    }
   ],
   "source": [
    "\"\"\"\n",
    "    is_empty() 链表是否为空\n",
    "    length() 链表长度\n",
    "    travel() 遍历链表\n",
    "    add(item) 链表头部添加\n",
    "    append(item) 链表尾部添加\n",
    "    insert(pos, item) 指定位置添加\n",
    "    remove(item) 删除节点\n",
    "    search(item) 查找节点是否存在\n",
    "\n",
    "    双向链表包含三个区 prev data next\n",
    "\"\"\""
   ]
  },
  {
   "cell_type": "code",
   "execution_count": 2,
   "metadata": {},
   "outputs": [],
   "source": [
    "class Node(object):\n",
    "    \"\"\"双向链表节点\"\"\"\n",
    "    def __init__(self,elem):\n",
    "        self.elem = elem\n",
    "        self.next = None\n",
    "        self.prev = None"
   ]
  },
  {
   "cell_type": "code",
   "execution_count": 21,
   "metadata": {},
   "outputs": [],
   "source": [
    "class DLinkList(object):\n",
    "    def __init__(self):\n",
    "        self.__head = None\n",
    "    \n",
    "    '''判断空链表'''\n",
    "    def is_empty(self):\n",
    "        return self.__head == None\n",
    "    \n",
    "    '''返回链表的长度'''\n",
    "    def length(self): # 不是循环链表\n",
    "        cur = self.__head\n",
    "        count = 0\n",
    "        while cur != None:\n",
    "            count += 1\n",
    "            cur = cur.next\n",
    "        return count\n",
    "    \n",
    "    '''遍历链表'''\n",
    "    def travel(self):\n",
    "        cur = self.__head\n",
    "        while cur != None:\n",
    "            print(cur.elem,end=' ')\n",
    "            cur = cur.next\n",
    "        print()\n",
    "        \n",
    "    '''头插法'''\n",
    "    def add(self,item):\n",
    "        node = Node(item)\n",
    "        if self.is_empty():\n",
    "            self.__head = node\n",
    "        else:\n",
    "            node.next = self.__head\n",
    "            self.__head.prev = node\n",
    "            self.__head = node\n",
    "    \n",
    "    def append(self,item):\n",
    "        node = Node(item)\n",
    "        if self.is_empty():\n",
    "            self.__head = node\n",
    "        else:\n",
    "            cur = self.__head\n",
    "            while cur.next != None:\n",
    "                cur = cur.next\n",
    "            cur.next = node\n",
    "            node.prev = cur\n",
    "            \n",
    "    def insert(self,pos,item):\n",
    "        if pos <= 0:\n",
    "            self.add(item)\n",
    "        elif pos > self.length() -1:\n",
    "            self.append(item)\n",
    "        else:\n",
    "            cur = self.__head\n",
    "            count = 0 \n",
    "            while count < pos:\n",
    "                count += 1\n",
    "                cur = cur.next\n",
    "            node = Node(item)\n",
    "            node.next = cur\n",
    "            cur.prev.next = node\n",
    "            node.prev = cur.prev\n",
    "            cur.prev = node\n",
    "            \n",
    "    def remove(self,item):\n",
    "        if self.is_empty():\n",
    "            return \n",
    "        else:\n",
    "            cur = self.__head\n",
    "            if cur.elem == item:   #首节点元素 就是要删除的元素\n",
    "                if cur.next == None:#只有一个元素\n",
    "                    self.__head =  None\n",
    "                else: # 不止一个元素\n",
    "                    cur.next.prev = None\n",
    "                    self.__head = cur.next\n",
    "                return \n",
    "            # 不是首节点\n",
    "            while cur.next != None:\n",
    "                if cur.elem == item:\n",
    "                    cur.prev.next = cur.next\n",
    "                    cur.next.prev = cur.prev\n",
    "                    break\n",
    "                cur = cur.next\n",
    "    \n",
    "    def search(self,item):\n",
    "        if self.is_empty():\n",
    "            return False\n",
    "        else:\n",
    "            cur = self.__head\n",
    "            while cur.next != None:\n",
    "                if cur.elem == item:\n",
    "                    return True\n",
    "                cur = cur.next\n",
    "            return False"
   ]
  },
  {
   "cell_type": "code",
   "execution_count": 23,
   "metadata": {},
   "outputs": [],
   "source": [
    "dll = DLinkList()"
   ]
  },
  {
   "cell_type": "code",
   "execution_count": 24,
   "metadata": {},
   "outputs": [],
   "source": [
    "dll.add(0)"
   ]
  },
  {
   "cell_type": "code",
   "execution_count": 25,
   "metadata": {},
   "outputs": [],
   "source": [
    "dll.add(1)"
   ]
  },
  {
   "cell_type": "code",
   "execution_count": 26,
   "metadata": {},
   "outputs": [
    {
     "name": "stdout",
     "output_type": "stream",
     "text": [
      "1 0 \n"
     ]
    }
   ],
   "source": [
    "dll.travel()"
   ]
  },
  {
   "cell_type": "code",
   "execution_count": 27,
   "metadata": {},
   "outputs": [],
   "source": [
    "dll.append(2)"
   ]
  },
  {
   "cell_type": "code",
   "execution_count": 28,
   "metadata": {},
   "outputs": [
    {
     "name": "stdout",
     "output_type": "stream",
     "text": [
      "1 0 2 \n"
     ]
    }
   ],
   "source": [
    "dll.travel()"
   ]
  },
  {
   "cell_type": "code",
   "execution_count": 29,
   "metadata": {},
   "outputs": [],
   "source": [
    "dll.insert(1,10)"
   ]
  },
  {
   "cell_type": "code",
   "execution_count": 30,
   "metadata": {},
   "outputs": [
    {
     "name": "stdout",
     "output_type": "stream",
     "text": [
      "1 10 0 2 \n"
     ]
    }
   ],
   "source": [
    "dll.travel()"
   ]
  },
  {
   "cell_type": "code",
   "execution_count": 31,
   "metadata": {},
   "outputs": [],
   "source": [
    "dll.remove(10)"
   ]
  },
  {
   "cell_type": "code",
   "execution_count": 32,
   "metadata": {},
   "outputs": [
    {
     "name": "stdout",
     "output_type": "stream",
     "text": [
      "1 0 2 \n"
     ]
    }
   ],
   "source": [
    "dll.travel()"
   ]
  },
  {
   "cell_type": "code",
   "execution_count": 34,
   "metadata": {},
   "outputs": [
    {
     "data": {
      "text/plain": [
       "True"
      ]
     },
     "execution_count": 34,
     "metadata": {},
     "output_type": "execute_result"
    }
   ],
   "source": [
    "dll.search(1)"
   ]
  },
  {
   "cell_type": "code",
   "execution_count": null,
   "metadata": {},
   "outputs": [],
   "source": []
  }
 ],
 "metadata": {
  "kernelspec": {
   "display_name": "Python 3",
   "language": "python",
   "name": "python3"
  },
  "language_info": {
   "codemirror_mode": {
    "name": "ipython",
    "version": 3
   },
   "file_extension": ".py",
   "mimetype": "text/x-python",
   "name": "python",
   "nbconvert_exporter": "python",
   "pygments_lexer": "ipython3",
   "version": "3.6.2"
  }
 },
 "nbformat": 4,
 "nbformat_minor": 2
}
