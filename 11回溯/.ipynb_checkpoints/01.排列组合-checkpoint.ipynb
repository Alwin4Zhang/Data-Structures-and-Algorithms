{
 "cells": [
  {
   "cell_type": "code",
   "execution_count": 7,
   "metadata": {
    "ExecuteTime": {
     "end_time": "2020-09-12T13:38:17.378404Z",
     "start_time": "2020-09-12T13:38:17.364472Z"
    }
   },
   "outputs": [],
   "source": [
    "'''\n",
    "回溯三要素:\n",
    "1.路径：已经做出的选择\n",
    "2.选择列表：你当前可以做的选择\n",
    "3.结束条件：到达决策树底层，无法再做任何选择\n",
    "\n",
    "\n",
    "代码模板:\n",
    "def backtrack(路径，选择列表):\n",
    "    if 满足结束条件:\n",
    "        result.append(路径)\n",
    "        return result\n",
    "    for 选择 in 选择列表:\n",
    "        做选择\n",
    "        backtrack(路径，选择列表)\n",
    "        撤销选择\n",
    "        \n",
    "        \n",
    "# 做选择\n",
    "(1)将该选择从选择列表移除\n",
    "(2)路径.append(选择)\n",
    "(3)backtrack(路径,选择列表)\n",
    "\n",
    "# 撤销选择\n",
    "(1)路径.remove(选择)\n",
    "(2)将该选择再加入选择列表\n",
    "'''\n",
    "\n",
    "# [1,2,3] 排列组合\n",
    "\n",
    "from copy import deepcopy\n",
    "\n",
    "class Solution(object):\n",
    "    def __init__(self):\n",
    "        self.res = []\n",
    "        \n",
    "    def permute(self,nums:list):\n",
    "        track = []\n",
    "        self.backtrack(track,nums)\n",
    "        return self.res\n",
    "    \n",
    "    def backtrack(self,track,nums):\n",
    "        # 结束条件\n",
    "        if len(track) == len(nums):\n",
    "            self.res.append(deepcopy(track))\n",
    "            return \n",
    "        \n",
    "        for i in range(len(nums)):\n",
    "            # 排除不合理选择\n",
    "            if nums[i] in track:\n",
    "                continue\n",
    "            # 做选择\n",
    "            track.append(nums[i])\n",
    "            # 进入下一层\n",
    "            self.backtrack(track,nums)\n",
    "            # 取消选择\n",
    "            track.pop()"
   ]
  },
  {
   "cell_type": "code",
   "execution_count": 8,
   "metadata": {
    "ExecuteTime": {
     "end_time": "2020-09-12T13:38:17.669566Z",
     "start_time": "2020-09-12T13:38:17.651801Z"
    }
   },
   "outputs": [
    {
     "data": {
      "text/plain": [
       "[[1, 2, 3], [1, 3, 2], [2, 1, 3], [2, 3, 1], [3, 1, 2], [3, 2, 1]]"
      ]
     },
     "execution_count": 8,
     "metadata": {},
     "output_type": "execute_result"
    }
   ],
   "source": [
    "nums = [1,2,3]\n",
    "S = Solution()\n",
    "S.permute(nums)"
   ]
  }
 ],
 "metadata": {
  "kernelspec": {
   "display_name": "Python 3.6.5 64-bit",
   "language": "python",
   "name": "python36564bit6a399719dc6c45f2860bea74f25b293e"
  },
  "language_info": {
   "codemirror_mode": {
    "name": "ipython",
    "version": 3
   },
   "file_extension": ".py",
   "mimetype": "text/x-python",
   "name": "python",
   "nbconvert_exporter": "python",
   "pygments_lexer": "ipython3",
   "version": "3.6.5"
  },
  "toc": {
   "base_numbering": 1,
   "nav_menu": {},
   "number_sections": true,
   "sideBar": true,
   "skip_h1_title": false,
   "title_cell": "Table of Contents",
   "title_sidebar": "Contents",
   "toc_cell": false,
   "toc_position": {},
   "toc_section_display": true,
   "toc_window_display": false
  }
 },
 "nbformat": 4,
 "nbformat_minor": 2
}
