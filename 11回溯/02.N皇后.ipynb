{
 "cells": [
  {
   "cell_type": "code",
   "execution_count": 43,
   "metadata": {
    "ExecuteTime": {
     "end_time": "2020-09-12T14:32:24.310817Z",
     "start_time": "2020-09-12T14:32:24.292749Z"
    }
   },
   "outputs": [],
   "source": [
    "# N皇后问题\n",
    "\"\"\"\n",
    "这个问题很经典了，简单解释一下：给你一个 N×N 的棋盘，让你放置 N 个皇后，使得它们不能互相攻击。\n",
    "PS：皇后可以攻击同一行、同一列、左上左下右上右下四个方向的任意单位。\n",
    "\"\"\"\n",
    "\n",
    "class Solution:\n",
    "    def solveNQueens(self, n: int) -> List[List[str]]:\n",
    "        res = []\n",
    "        board = [['.'] * n for _ in range(n)]\n",
    "        self.backtrack(board,0,res)\n",
    "        return res\n",
    "\n",
    "    def backtrack(self,board,row,res):\n",
    "        # 结束条件\n",
    "        if row == len(board):\n",
    "            res.append([''.join(row) for row in deepcopy(board)])\n",
    "            return \n",
    "        n = len(board[row])\n",
    "        # 选择条件\n",
    "        for col in range(n):\n",
    "            # 非法条件\n",
    "            if not self.isValid(board,row,col):\n",
    "                continue\n",
    "            # 做选择\n",
    "            board[row][col] = \"Q\"\n",
    "            # 进入下一行决策\n",
    "            self.backtrack(board,row + 1,res)\n",
    "            # 回退\n",
    "            board[row][col] = \".\"\n",
    "\n",
    "    def isValid(self,board,row,col):\n",
    "        '''\n",
    "        :board: n皇后棋盘\n",
    "        :row: 当前所在行\n",
    "        :col: 当前所在列\n",
    "        :return: 当前cell是否可以放皇后\n",
    "        '''\n",
    "        n = len(board)\n",
    "        # 检查列是否有皇后互相冲突\n",
    "        for i in range(n):\n",
    "            if board[i][col] == \"Q\":\n",
    "                return False\n",
    "        # 检查右上方是否有皇后互相冲突\n",
    "        for i, j in zip(range(row - 1, -1, -1), range(col + 1, n)):\n",
    "            if board[i][j] == \"Q\":\n",
    "                return False\n",
    "\n",
    "        # 检查左上方是否有皇后互相冲突\n",
    "        for i, j in zip(range(row - 1, -1, -1), range(col - 1, -1, -1)):\n",
    "            if board[i][j] == \"Q\":\n",
    "                return False\n",
    "\n",
    "        return True"
   ]
  },
  {
   "cell_type": "code",
   "execution_count": 44,
   "metadata": {
    "ExecuteTime": {
     "end_time": "2020-09-12T14:32:24.620288Z",
     "start_time": "2020-09-12T14:32:24.612829Z"
    }
   },
   "outputs": [
    {
     "data": {
      "text/plain": [
       "[]"
      ]
     },
     "execution_count": 44,
     "metadata": {},
     "output_type": "execute_result"
    }
   ],
   "source": [
    "solution = Solution()\n",
    "solution.NQueen(8)"
   ]
  },
  {
   "cell_type": "code",
   "execution_count": null,
   "metadata": {},
   "outputs": [],
   "source": []
  }
 ],
 "metadata": {
  "kernelspec": {
   "display_name": "Python 3.6.5 64-bit",
   "language": "python",
   "name": "python36564bit6a399719dc6c45f2860bea74f25b293e"
  },
  "language_info": {
   "codemirror_mode": {
    "name": "ipython",
    "version": 3
   },
   "file_extension": ".py",
   "mimetype": "text/x-python",
   "name": "python",
   "nbconvert_exporter": "python",
   "pygments_lexer": "ipython3",
   "version": "3.6.5"
  },
  "toc": {
   "base_numbering": 1,
   "nav_menu": {},
   "number_sections": true,
   "sideBar": true,
   "skip_h1_title": false,
   "title_cell": "Table of Contents",
   "title_sidebar": "Contents",
   "toc_cell": false,
   "toc_position": {},
   "toc_section_display": true,
   "toc_window_display": false
  }
 },
 "nbformat": 4,
 "nbformat_minor": 2
}
