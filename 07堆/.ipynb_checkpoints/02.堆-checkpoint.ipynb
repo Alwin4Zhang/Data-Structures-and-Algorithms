{
 "cells": [
  {
   "cell_type": "code",
   "execution_count": 1,
   "metadata": {
    "ExecuteTime": {
     "end_time": "2020-09-05T09:40:34.817595Z",
     "start_time": "2020-09-05T09:40:34.806328Z"
    }
   },
   "outputs": [],
   "source": [
    "class Solution(object):\n",
    "    def heap_sort(self,nums):\n",
    "        i,l = 0,len(nums)\n",
    "        self.nums = nums\n",
    "        # 构造大顶堆,从非叶子节点开始倒序遍历，因此是 l//2 - 1 就是最后一个非叶子节点\n",
    "        for i in range(l//2 -1,-1,-1):\n",
    "            self.build_heap(i,l-1)\n",
    "        for j in range(l-1,-1,-1): # 在构建大顶堆之后，以此交换当前遍历的数与堆最大元素 然后剩下数字 堆重新排序 \n",
    "            nums[0],nums[j] = nums[j],nums[0]\n",
    "            self.build_heap(0,j-1)\n",
    "        return nums\n",
    "    \n",
    "    def build_heap(self, i, l): \n",
    "        \"\"\"构建大顶堆\"\"\"\n",
    "        nums = self.nums\n",
    "        left, right = 2*i+1, 2*i+2 ## 左右子节点的下标\n",
    "        large_index = i \n",
    "        if left <= l and nums[i] < nums[left]:\n",
    "            large_index = left\n",
    "\n",
    "        if right <= l and nums[left] < nums[right]:\n",
    "            large_index = right\n",
    " \n",
    "        # 通过上面跟左右节点比较后，得出三个元素之间较大的下标，如果较大下表不是父节点的下标，说明交换后需要重新调整大顶堆\n",
    "        if large_index != i:\n",
    "            nums[i], nums[large_index] = nums[large_index], nums[i]\n",
    "            self.build_heap(large_index, l)"
   ]
  },
  {
   "cell_type": "code",
   "execution_count": 3,
   "metadata": {
    "ExecuteTime": {
     "end_time": "2020-09-05T09:41:36.718682Z",
     "start_time": "2020-09-05T09:41:36.706420Z"
    }
   },
   "outputs": [
    {
     "data": {
      "text/plain": [
       "[1, 2, 3, 5, 6]"
      ]
     },
     "execution_count": 3,
     "metadata": {},
     "output_type": "execute_result"
    }
   ],
   "source": [
    "nums = [1,3,2,5,6]\n",
    "heap = Solution()\n",
    "\n",
    "heap.heap_sort(nums)"
   ]
  },
  {
   "cell_type": "code",
   "execution_count": null,
   "metadata": {},
   "outputs": [],
   "source": []
  }
 ],
 "metadata": {
  "kernelspec": {
   "display_name": "python368",
   "language": "python",
   "name": "python368"
  },
  "language_info": {
   "codemirror_mode": {
    "name": "ipython",
    "version": 3
   },
   "file_extension": ".py",
   "mimetype": "text/x-python",
   "name": "python",
   "nbconvert_exporter": "python",
   "pygments_lexer": "ipython3",
   "version": "3.6.8"
  },
  "toc": {
   "base_numbering": 1,
   "nav_menu": {},
   "number_sections": true,
   "sideBar": true,
   "skip_h1_title": false,
   "title_cell": "Table of Contents",
   "title_sidebar": "Contents",
   "toc_cell": false,
   "toc_position": {},
   "toc_section_display": true,
   "toc_window_display": false
  }
 },
 "nbformat": 4,
 "nbformat_minor": 4
}
