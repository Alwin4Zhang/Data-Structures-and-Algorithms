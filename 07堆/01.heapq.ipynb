{
 "cells": [
  {
   "cell_type": "code",
   "execution_count": 2,
   "metadata": {
    "ExecuteTime": {
     "end_time": "2020-09-05T08:23:52.006766Z",
     "start_time": "2020-09-05T08:23:52.003972Z"
    }
   },
   "outputs": [],
   "source": [
    "import heapq"
   ]
  },
  {
   "cell_type": "markdown",
   "metadata": {},
   "source": [
    "# 构建方式"
   ]
  },
  {
   "cell_type": "code",
   "execution_count": 3,
   "metadata": {
    "ExecuteTime": {
     "end_time": "2020-09-05T08:23:53.471663Z",
     "start_time": "2020-09-05T08:23:53.458746Z"
    }
   },
   "outputs": [
    {
     "data": {
      "text/plain": [
       "7"
      ]
     },
     "execution_count": 3,
     "metadata": {},
     "output_type": "execute_result"
    }
   ],
   "source": [
    "'''\n",
    "构建堆两种方式:\n",
    "    1.使用一个空列表,然后使用heapq.heappush() 函数将值加入堆中\n",
    "    2.heap.heapfiy(list)转换列表成为堆结构\n",
    "'''\n",
    "\n",
    "# 第一种\n",
    "nums = [2,3,5,1,54,23,132]\n",
    "heap = []\n",
    "for num in nums:\n",
    "    heapq.heappush(heap,num)\n",
    "heap\n",
    "len(heap)"
   ]
  },
  {
   "cell_type": "code",
   "execution_count": 11,
   "metadata": {
    "ExecuteTime": {
     "end_time": "2020-09-05T02:47:43.091753Z",
     "start_time": "2020-09-05T02:47:43.087020Z"
    }
   },
   "outputs": [
    {
     "name": "stdout",
     "output_type": "stream",
     "text": [
      "[1, 2, 5, 3, 54, 23, 132]\n",
      "[1, 2, 3, 5, 23, 54, 132]\n"
     ]
    }
   ],
   "source": [
    "# 第二种\n",
    "nums = [2,3,5,1,54,23,132]\n",
    "heapq.heapify(nums)\n",
    "print(nums)\n",
    "\n",
    "print([heapq.heappop(nums) for _ in range(len(nums))])"
   ]
  },
  {
   "cell_type": "code",
   "execution_count": 42,
   "metadata": {
    "ExecuteTime": {
     "end_time": "2020-09-05T03:32:41.714918Z",
     "start_time": "2020-09-05T03:32:41.709350Z"
    }
   },
   "outputs": [
    {
     "data": {
      "text/plain": [
       "132"
      ]
     },
     "execution_count": 42,
     "metadata": {},
     "output_type": "execute_result"
    }
   ],
   "source": [
    "# heapq 默认只会构建小顶堆  如果要构建大顶堆 每个元素添加-号即可\n",
    "nums = [2,3,5,1,54,23,132]\n",
    "nums = [-num for num in nums]\n",
    "heapq.heapify(nums)\n",
    "\n",
    "-heapq.heappop(nums)"
   ]
  },
  {
   "cell_type": "markdown",
   "metadata": {},
   "source": [
    "# 合并多个排序后的序列成一个有序序列"
   ]
  },
  {
   "cell_type": "code",
   "execution_count": 17,
   "metadata": {
    "ExecuteTime": {
     "end_time": "2020-09-05T02:49:07.703578Z",
     "start_time": "2020-09-05T02:49:07.696510Z"
    }
   },
   "outputs": [
    {
     "data": {
      "text/plain": [
       "[2, 3, 5, 12, 23, 23, 23, 32, 34, 54, 54, 132, 324, 656]"
      ]
     },
     "execution_count": 17,
     "metadata": {},
     "output_type": "execute_result"
    }
   ],
   "source": [
    "num1 = [32, 3, 5, 34, 54, 23, 132]\n",
    "num2 = [23, 2, 12, 656, 324, 23, 54]\n",
    "num1 = sorted(num1)\n",
    "num2 = sorted(num2)\n",
    "\n",
    "res = heapq.merge(num1,num2)\n",
    "list(res)"
   ]
  },
  {
   "cell_type": "markdown",
   "metadata": {},
   "source": [
    "# 访问堆内容"
   ]
  },
  {
   "cell_type": "code",
   "execution_count": 18,
   "metadata": {
    "ExecuteTime": {
     "end_time": "2020-09-05T02:49:34.203388Z",
     "start_time": "2020-09-05T02:49:34.199038Z"
    }
   },
   "outputs": [
    {
     "name": "stdout",
     "output_type": "stream",
     "text": [
      "2\n"
     ]
    }
   ],
   "source": [
    "# 弹出堆中最小值\n",
    "import heapq\n",
    "nums = [2, 43, 45, 23, 12]\n",
    "heapq.heapify(nums)\n",
    "\n",
    "print(heapq.heappop(nums))"
   ]
  },
  {
   "cell_type": "code",
   "execution_count": 19,
   "metadata": {
    "ExecuteTime": {
     "end_time": "2020-09-05T02:49:43.659814Z",
     "start_time": "2020-09-05T02:49:43.654883Z"
    }
   },
   "outputs": [
    {
     "name": "stdout",
     "output_type": "stream",
     "text": [
      "[2, 3, 4, 5, 23]\n"
     ]
    }
   ],
   "source": [
    "# 删除堆中最小元素并加一个元素 可以使用heapq.heapreplace()\n",
    "import heapq\n",
    "\n",
    "nums = [1, 2, 4, 5, 3]\n",
    "heapq.heapify(nums)\n",
    "\n",
    "heapq.heapreplace(nums, 23)\n",
    "\n",
    "print([heapq.heappop(nums) for _ in range(len(nums))])"
   ]
  },
  {
   "cell_type": "code",
   "execution_count": 20,
   "metadata": {
    "ExecuteTime": {
     "end_time": "2020-09-05T02:56:32.977136Z",
     "start_time": "2020-09-05T02:56:32.970625Z"
    }
   },
   "outputs": [
    {
     "name": "stdout",
     "output_type": "stream",
     "text": [
      "[5, 4, 3]\n",
      "[1, 2, 3]\n"
     ]
    }
   ],
   "source": [
    "# 获取最大或最小值\n",
    "nums = [1,3,4,5,2]\n",
    "print(heapq.nlargest(3,nums))\n",
    "print(heapq.nsmallest(3,nums))"
   ]
  },
  {
   "cell_type": "code",
   "execution_count": 35,
   "metadata": {
    "ExecuteTime": {
     "end_time": "2020-09-05T03:14:05.086480Z",
     "start_time": "2020-09-05T03:14:05.073955Z"
    }
   },
   "outputs": [
    {
     "name": "stdout",
     "output_type": "stream",
     "text": [
      "[{'name': 'YHOO', 'price': 16.35, 'shares': 45},\n",
      " {'name': 'FB', 'price': 21.09, 'shares': 200},\n",
      " {'name': 'HPQ', 'price': 31.75, 'shares': 35}]\n",
      "[{'name': 'AAPL', 'price': 543.22, 'shares': 50},\n",
      " {'name': 'ACME', 'price': 115.65, 'shares': 75},\n",
      " {'name': 'IBM', 'price': 91.1, 'shares': 100}]\n",
      "------------------------------------------------------------\n",
      "cheap:\t [{'name': 'YHOO', 'shares': 45, 'price': 16.35}, {'name': 'FB', 'shares': 200, 'price': 21.09}, {'name': 'HPQ', 'shares': 35, 'price': 31.75}]\n",
      "expensive [{'name': 'IBM', 'shares': 100, 'price': 91.1}, {'name': 'ACME', 'shares': 75, 'price': 115.65}, {'name': 'AAPL', 'shares': 50, 'price': 543.22}]\n",
      "cheap:\t [{'name': 'YHOO', 'shares': 45, 'price': 16.35}, {'name': 'FB', 'shares': 200, 'price': 21.09}, {'name': 'HPQ', 'shares': 35, 'price': 31.75}]\n",
      "expensive [{'name': 'IBM', 'shares': 100, 'price': 91.1}, {'name': 'ACME', 'shares': 75, 'price': 115.65}, {'name': 'AAPL', 'shares': 50, 'price': 543.22}]\n"
     ]
    }
   ],
   "source": [
    "import heapq\n",
    "from pprint import pprint\n",
    "from operator import itemgetter\n",
    "portfolio = [\n",
    "    {'name': 'IBM', 'shares': 100, 'price': 91.1},\n",
    "    {'name': 'AAPL', 'shares': 50, 'price': 543.22},\n",
    "    {'name': 'FB', 'shares': 200, 'price': 21.09},\n",
    "    {'name': 'HPQ', 'shares': 35, 'price': 31.75},\n",
    "    {'name': 'YHOO', 'shares': 45, 'price': 16.35},\n",
    "    {'name': 'ACME', 'shares': 75, 'price': 115.65}\n",
    "]\n",
    "cheap = heapq.nsmallest(3, portfolio, key=lambda s: s['price'])\n",
    "expensive = heapq.nlargest(3, portfolio, key=lambda s: s['price'])\n",
    "pprint(cheap)\n",
    "pprint(expensive)\n",
    "print(\"---\" * 20)\n",
    "\n",
    "# 类似于sorted排序\n",
    "sorted_protfolio = sorted(portfolio,key=lambda x:x['price'])\n",
    "print(\"cheap:\\t\",sorted_protfolio[:3])\n",
    "print(\"expensive\",sorted_protfolio[-3:])\n",
    "\n",
    "sorted_protfolio2 = sorted(portfolio,key=itemgetter('price'))\n",
    "print(\"cheap:\\t\",sorted_protfolio2[:3])\n",
    "print(\"expensive\",sorted_protfolio2[-3:])"
   ]
  },
  {
   "cell_type": "markdown",
   "metadata": {},
   "source": [
    "# heapq应用"
   ]
  },
  {
   "cell_type": "code",
   "execution_count": 25,
   "metadata": {
    "ExecuteTime": {
     "end_time": "2020-09-05T03:04:29.660102Z",
     "start_time": "2020-09-05T03:04:29.652814Z"
    }
   },
   "outputs": [
    {
     "data": {
      "text/plain": [
       "[0, 1, 2, 3, 4, 5, 6, 7, 8, 9]"
      ]
     },
     "execution_count": 25,
     "metadata": {},
     "output_type": "execute_result"
    }
   ],
   "source": [
    "from heapq import heappush,heappop\n",
    "\n",
    "def heapsort(iterable):\n",
    "    h = []\n",
    "    for value in iterable:\n",
    "        heappush(h,value)\n",
    "    return [heappop(h) for i in range(len(h))]\n",
    "\n",
    "test = [1, 3, 5, 7, 9, 2, 4, 6, 8, 0]\n",
    "heapsort(test)"
   ]
  },
  {
   "cell_type": "code",
   "execution_count": 26,
   "metadata": {
    "ExecuteTime": {
     "end_time": "2020-09-05T03:04:48.834505Z",
     "start_time": "2020-09-05T03:04:48.828492Z"
    }
   },
   "outputs": [
    {
     "data": {
      "text/plain": [
       "(1, 'write spec')"
      ]
     },
     "execution_count": 26,
     "metadata": {},
     "output_type": "execute_result"
    }
   ],
   "source": [
    "# tuple类型 实现对带权的元素进行排序\n",
    "h = []\n",
    "heappush(h, (5, 'write code'))\n",
    "heappush(h, (7, 'release product'))\n",
    "heappush(h, (1, 'write spec'))\n",
    "heappush(h, (3, 'create tests'))\n",
    "\n",
    "heappop(h)"
   ]
  },
  {
   "cell_type": "code",
   "execution_count": 27,
   "metadata": {
    "ExecuteTime": {
     "end_time": "2020-09-05T03:05:35.770245Z",
     "start_time": "2020-09-05T03:05:35.764423Z"
    }
   },
   "outputs": [
    {
     "data": {
      "text/plain": [
       "('create tests', 3)"
      ]
     },
     "execution_count": 27,
     "metadata": {},
     "output_type": "execute_result"
    }
   ],
   "source": [
    "# 可以看到上面的tuple排序,默认用tuple的第一个元素进行排序\n",
    "s = []\n",
    "\n",
    "heappush(s, ('write code',5))\n",
    "heappush(s, ('release product',7))\n",
    "heappush(s, ('write spec',1))\n",
    "heappush(s, ('create tests',3))\n",
    "\n",
    "heappop(s)"
   ]
  },
  {
   "cell_type": "markdown",
   "metadata": {},
   "source": [
    "# 有序数组插入"
   ]
  },
  {
   "cell_type": "code",
   "execution_count": 39,
   "metadata": {
    "ExecuteTime": {
     "end_time": "2020-09-05T03:19:07.161585Z",
     "start_time": "2020-09-05T03:19:07.156774Z"
    }
   },
   "outputs": [
    {
     "name": "stdout",
     "output_type": "stream",
     "text": [
      "5\n",
      "[1, 4, 6, 8, 12, 13, 15, 20]\n"
     ]
    }
   ],
   "source": [
    "import bisect\n",
    "\n",
    "a = [1,4,6,8,12,15,20]\n",
    "position = bisect.bisect(a,13) # 返回应该插入的位置\n",
    "print(position)\n",
    "\n",
    "a.insert(position,13)\n",
    "print(a)"
   ]
  },
  {
   "cell_type": "code",
   "execution_count": 41,
   "metadata": {
    "ExecuteTime": {
     "end_time": "2020-09-05T03:19:38.768255Z",
     "start_time": "2020-09-05T03:19:38.764135Z"
    }
   },
   "outputs": [
    {
     "name": "stdout",
     "output_type": "stream",
     "text": [
      "[1, 4, 6, 8, 12, 13, 15, 20]\n"
     ]
    }
   ],
   "source": [
    "# insort 有序插入\n",
    "a = [1,4,6,8,12,15,20]\n",
    "bisect.insort(a,13)\n",
    "print(a)"
   ]
  },
  {
   "cell_type": "markdown",
   "metadata": {},
   "source": [
    "bisect还有bisect_left，insort_left的用法，和不带left的用法的区别是：  \n",
    "当插入的元素和序列中的某一个元素相同时，  \n",
    "该插入到该元素的前面（左边，left），还是后面（右边）；  \n",
    "如果是查找，则返回该元素的位置还是该元素之后的位置。  "
   ]
  },
  {
   "cell_type": "code",
   "execution_count": null,
   "metadata": {},
   "outputs": [],
   "source": []
  }
 ],
 "metadata": {
  "kernelspec": {
   "display_name": "python368",
   "language": "python",
   "name": "python368"
  },
  "language_info": {
   "codemirror_mode": {
    "name": "ipython",
    "version": 3
   },
   "file_extension": ".py",
   "mimetype": "text/x-python",
   "name": "python",
   "nbconvert_exporter": "python",
   "pygments_lexer": "ipython3",
   "version": "3.6.8"
  },
  "toc": {
   "base_numbering": 1,
   "nav_menu": {},
   "number_sections": true,
   "sideBar": true,
   "skip_h1_title": false,
   "title_cell": "Table of Contents",
   "title_sidebar": "Contents",
   "toc_cell": false,
   "toc_position": {},
   "toc_section_display": true,
   "toc_window_display": false
  }
 },
 "nbformat": 4,
 "nbformat_minor": 4
}
